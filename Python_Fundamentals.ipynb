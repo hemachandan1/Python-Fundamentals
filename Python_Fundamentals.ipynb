{
 "cells": [
  {
   "cell_type": "markdown",
   "id": "4df72cd9-7a97-48f3-b9ed-d9a5d0af550f",
   "metadata": {},
   "source": [
    "# first code\n",
    "for the text header change  code<==>markdown then #space(you can access Till 6#'s) \n",
    "note: 1)always run and then move to next cell or else the variable wont be saved\n",
    "      "
   ]
  },
  {
   "cell_type": "code",
   "execution_count": 1,
   "id": "9660f79f-c7f2-4499-995e-4ca7726cfb0d",
   "metadata": {},
   "outputs": [
    {
     "name": "stdout",
     "output_type": "stream",
     "text": [
      "hello world\n"
     ]
    }
   ],
   "source": [
    "print(\"hello world\")"
   ]
  },
  {
   "cell_type": "code",
   "execution_count": 2,
   "id": "cc54f420-6eb2-4fb2-9bb8-e07d82f1ae55",
   "metadata": {},
   "outputs": [
    {
     "name": "stdout",
     "output_type": "stream",
     "text": [
      "hi people\n"
     ]
    }
   ],
   "source": [
    "x='people'\n",
    "print('hi',x)"
   ]
  },
  {
   "cell_type": "markdown",
   "id": "cd558bcf-6f2f-431b-89b9-cff855c84d6f",
   "metadata": {
    "tags": []
   },
   "source": [
    "### key words \n",
    "you can't use it for the identifers."
   ]
  },
  {
   "cell_type": "code",
   "execution_count": 3,
   "id": "f1882e8a-079e-4273-a048-f6dfeef4563a",
   "metadata": {},
   "outputs": [
    {
     "name": "stdout",
     "output_type": "stream",
     "text": [
      "['False', 'None', 'True', 'and', 'as', 'assert', 'async', 'await', 'break', 'class', 'continue', 'def', 'del', 'elif', 'else', 'except', 'finally', 'for', 'from', 'global', 'if', 'import', 'in', 'is', 'lambda', 'nonlocal', 'not', 'or', 'pass', 'raise', 'return', 'try', 'while', 'with', 'yield']\n"
     ]
    }
   ],
   "source": [
    "import keyword\n",
    "print(keyword.kwlist)"
   ]
  },
  {
   "cell_type": "markdown",
   "id": "34f54769-c63c-4fe0-8dd2-e1f35b5bd922",
   "metadata": {},
   "source": [
    "# Data types\n",
    "scala= int,bool,float,complex\n",
    "\n",
    "Aggregated= str,set,list,tuple,dict"
   ]
  },
  {
   "cell_type": "code",
   "execution_count": 4,
   "id": "c189cf9a-6f92-4c12-b603-bcc02237f20e",
   "metadata": {},
   "outputs": [
    {
     "name": "stdout",
     "output_type": "stream",
     "text": [
      "x= 34 \ty= /tz= True\n"
     ]
    }
   ],
   "source": [
    "x=34; y=67.89; z=True\n",
    "print('x=',x,'\\ty=','/tz=',z)"
   ]
  },
  {
   "cell_type": "code",
   "execution_count": 5,
   "id": "b34544c1-97c8-47ef-8ef1-39d33edf53ec",
   "metadata": {},
   "outputs": [
    {
     "name": "stdout",
     "output_type": "stream",
     "text": [
      "type of \n",
      "x= <class 'int'> \t y= <class 'float'> \t z= <class 'bool'>\n"
     ]
    }
   ],
   "source": [
    "print('type of \\nx=',type(x),'\\t y=',type(y),\"\\t z=\",type(z))"
   ]
  },
  {
   "cell_type": "code",
   "execution_count": 6,
   "id": "4dd6f5d6-2c13-48c5-b62e-316c40cbf944",
   "metadata": {},
   "outputs": [
    {
     "name": "stdout",
     "output_type": "stream",
     "text": [
      "var= abc\n",
      "<class 'str'>\n"
     ]
    }
   ],
   "source": [
    "var=\"abc\"\n",
    "print(\"var=\",var)\n",
    "print(type(var))"
   ]
  },
  {
   "cell_type": "code",
   "execution_count": 7,
   "id": "8aa588bd-2b51-40be-9ae6-b2dea2dab29b",
   "metadata": {},
   "outputs": [
    {
     "name": "stdout",
     "output_type": "stream",
     "text": [
      "<class 'complex'>\n"
     ]
    },
    {
     "data": {
      "text/plain": [
       "complex"
      ]
     },
     "execution_count": 7,
     "metadata": {},
     "output_type": "execute_result"
    }
   ],
   "source": [
    "a=5+6j\n",
    "print(type(a))\n",
    "type(a)"
   ]
  },
  {
   "cell_type": "code",
   "execution_count": 8,
   "id": "651c64fb-4a9f-4966-ae3a-2955a5343c62",
   "metadata": {},
   "outputs": [
    {
     "name": "stdout",
     "output_type": "stream",
     "text": [
      "<class 'list'>\n",
      "[1, 'a', 2, 'True']\n"
     ]
    }
   ],
   "source": [
    "a=[1,\"a\",2,\"True\"]\n",
    "print(type(a))\n",
    "print(a)"
   ]
  },
  {
   "cell_type": "code",
   "execution_count": 9,
   "id": "2783987b-8dd3-469c-9420-ef71d3005f25",
   "metadata": {},
   "outputs": [
    {
     "name": "stdout",
     "output_type": "stream",
     "text": [
      "<class 'tuple'>\n",
      "(1, 'a', 2, 'True', 1)\n"
     ]
    }
   ],
   "source": [
    "a=(1,\"a\",2,\"True\",1)\n",
    "print(type(a))\n",
    "print(a)"
   ]
  },
  {
   "cell_type": "code",
   "execution_count": 10,
   "id": "7e97400b-1f2e-42a8-b6af-373088fcad8a",
   "metadata": {},
   "outputs": [
    {
     "name": "stdout",
     "output_type": "stream",
     "text": [
      "<class 'set'>\n",
      "{1, 2, 'a', 'True'}\n"
     ]
    }
   ],
   "source": [
    "a={1,\"a\",2,\"True\",1}\n",
    "print(type(a))\n",
    "print(a)  #duplicates aoesnt allows"
   ]
  },
  {
   "cell_type": "code",
   "execution_count": 11,
   "id": "d0ae30a1-d253-4573-acab-67369a999c8b",
   "metadata": {},
   "outputs": [
    {
     "name": "stdout",
     "output_type": "stream",
     "text": [
      "<class 'dict'>\n",
      "{'age': 12, 'name': 'Chandan'}\n"
     ]
    }
   ],
   "source": [
    "a={\"age\":12,\n",
    "  \"name\":\"Chandan\"}\n",
    "print(type(a))\n",
    "print(a)"
   ]
  },
  {
   "cell_type": "markdown",
   "id": "20e167f6-8cef-410c-b08b-447d992dfc7f",
   "metadata": {},
   "source": [
    "# Data Type Conversion\n"
   ]
  },
  {
   "cell_type": "code",
   "execution_count": 12,
   "id": "52d84c76-e891-4075-a355-b6d6efd7cbc7",
   "metadata": {},
   "outputs": [
    {
     "name": "stdout",
     "output_type": "stream",
     "text": [
      "<class 'float'>\n"
     ]
    }
   ],
   "source": [
    "x=40.5\n",
    "print(type(x))"
   ]
  },
  {
   "cell_type": "code",
   "execution_count": 13,
   "id": "956ada7c-b2eb-4cd4-a7a6-ce8aed55e112",
   "metadata": {},
   "outputs": [
    {
     "data": {
      "text/plain": [
       "40"
      ]
     },
     "execution_count": 13,
     "metadata": {},
     "output_type": "execute_result"
    }
   ],
   "source": [
    "int(x)"
   ]
  },
  {
   "cell_type": "code",
   "execution_count": 14,
   "id": "a51e561b-6ddb-4b57-a30c-b028468e4231",
   "metadata": {},
   "outputs": [
    {
     "data": {
      "text/plain": [
       "'40.5'"
      ]
     },
     "execution_count": 14,
     "metadata": {},
     "output_type": "execute_result"
    }
   ],
   "source": [
    "str(x)"
   ]
  },
  {
   "cell_type": "code",
   "execution_count": 15,
   "id": "bc0560a4-b8f2-4a06-b6f5-88fd86f014cf",
   "metadata": {},
   "outputs": [
    {
     "data": {
      "text/plain": [
       "40.5"
      ]
     },
     "execution_count": 15,
     "metadata": {},
     "output_type": "execute_result"
    }
   ],
   "source": [
    "float(x)"
   ]
  },
  {
   "cell_type": "code",
   "execution_count": 16,
   "id": "c56fb984-cd7f-4f2c-8555-206f0a4faf3f",
   "metadata": {},
   "outputs": [
    {
     "data": {
      "text/plain": [
       "True"
      ]
     },
     "execution_count": 16,
     "metadata": {},
     "output_type": "execute_result"
    }
   ],
   "source": [
    "bool(x)"
   ]
  },
  {
   "cell_type": "code",
   "execution_count": 17,
   "id": "15a04949-e7be-4497-a1ab-8e0145a10aa6",
   "metadata": {},
   "outputs": [],
   "source": [
    "y=\"48.88\""
   ]
  },
  {
   "cell_type": "code",
   "execution_count": 18,
   "id": "cb21134a-c460-42cd-a99a-037b84107232",
   "metadata": {},
   "outputs": [
    {
     "data": {
      "text/plain": [
       "48.88"
      ]
     },
     "execution_count": 18,
     "metadata": {},
     "output_type": "execute_result"
    }
   ],
   "source": [
    "float(y)"
   ]
  },
  {
   "cell_type": "code",
   "execution_count": 19,
   "id": "de4880f8-649d-477f-ad66-c66088dc225d",
   "metadata": {},
   "outputs": [
    {
     "data": {
      "text/plain": [
       "48"
      ]
     },
     "execution_count": 19,
     "metadata": {},
     "output_type": "execute_result"
    }
   ],
   "source": [
    "int(float(y))"
   ]
  },
  {
   "cell_type": "code",
   "execution_count": 20,
   "id": "b2640299-4f2a-48fa-b92b-faab41f069b0",
   "metadata": {},
   "outputs": [
    {
     "data": {
      "text/plain": [
       "48.88"
      ]
     },
     "execution_count": 20,
     "metadata": {},
     "output_type": "execute_result"
    }
   ],
   "source": [
    "float(y)"
   ]
  },
  {
   "cell_type": "code",
   "execution_count": 21,
   "id": "b9ec5287-bfd7-4633-b983-7fc4bcc48f6d",
   "metadata": {},
   "outputs": [
    {
     "data": {
      "text/plain": [
       "48"
      ]
     },
     "execution_count": 21,
     "metadata": {},
     "output_type": "execute_result"
    }
   ],
   "source": [
    "int(float(y))"
   ]
  },
  {
   "cell_type": "markdown",
   "id": "b3104557-3dc2-4c2a-90ec-741f018d4485",
   "metadata": {},
   "source": [
    "## Data assignment"
   ]
  },
  {
   "cell_type": "code",
   "execution_count": 22,
   "id": "bd485c32-2a18-4701-872b-8dce07e81665",
   "metadata": {},
   "outputs": [
    {
     "name": "stdout",
     "output_type": "stream",
     "text": [
      "the memory location of x and y  \n",
      " 140734852674472 \n",
      " 140734852674472 \n",
      " are the same\n"
     ]
    }
   ],
   "source": [
    "x=1\n",
    "y=x\n",
    "print(\"the memory location of x and y \", \"\\n\",id(x),\"\\n\", id(y),\"\\n are the same\") #id is the key word for the function to find the location"
   ]
  },
  {
   "cell_type": "code",
   "execution_count": 23,
   "id": "159522c1-5918-4b65-a970-b92dd59476c6",
   "metadata": {},
   "outputs": [
    {
     "name": "stdout",
     "output_type": "stream",
     "text": [
      "the memory location of x and y  \n",
      " 140734852674472 \n",
      " 140734852674504 \n",
      " are not the same\n"
     ]
    }
   ],
   "source": [
    "x=1\n",
    "y=2\n",
    "print(\"the memory location of x and y \", \"\\n\",id(x),\"\\n\", id(y),\"\\n are not the same\")"
   ]
  },
  {
   "cell_type": "markdown",
   "id": "d567c80f-adda-49be-a929-489df0e47236",
   "metadata": {},
   "source": [
    "## Operators\n",
    "5types=={Arthematis,Assignment, logical,Relational/Comparision,Miscellaneous}\n"
   ]
  },
  {
   "cell_type": "markdown",
   "id": "f67cd4d7-1d88-4320-8100-744d068019b8",
   "metadata": {},
   "source": [
    "#### Arthematic operators"
   ]
  },
  {
   "cell_type": "code",
   "execution_count": 24,
   "id": "a2e17592-c170-43bf-af46-2246d5de8805",
   "metadata": {},
   "outputs": [
    {
     "name": "stdout",
     "output_type": "stream",
     "text": [
      "22\n"
     ]
    }
   ],
   "source": [
    "print(12+10)"
   ]
  },
  {
   "cell_type": "code",
   "execution_count": 25,
   "id": "9c1198fa-9a7c-42aa-954b-59f059d3c98b",
   "metadata": {},
   "outputs": [
    {
     "name": "stdout",
     "output_type": "stream",
     "text": [
      "2\n"
     ]
    }
   ],
   "source": [
    "print(12-10)"
   ]
  },
  {
   "cell_type": "code",
   "execution_count": 26,
   "id": "93acd1b7-e334-467c-a72e-012a964a9457",
   "metadata": {},
   "outputs": [
    {
     "name": "stdout",
     "output_type": "stream",
     "text": [
      "120\n"
     ]
    }
   ],
   "source": [
    "print(12*10)"
   ]
  },
  {
   "cell_type": "code",
   "execution_count": 27,
   "id": "69df4f29-378c-4bb2-ae3f-19820ea3dfb9",
   "metadata": {},
   "outputs": [
    {
     "name": "stdout",
     "output_type": "stream",
     "text": [
      "1.2\n"
     ]
    }
   ],
   "source": [
    "print(12/10)"
   ]
  },
  {
   "cell_type": "code",
   "execution_count": 28,
   "id": "41ea9d31-2255-44ce-b323-0f3bb49c8ebe",
   "metadata": {},
   "outputs": [
    {
     "name": "stdout",
     "output_type": "stream",
     "text": [
      "2\n"
     ]
    }
   ],
   "source": [
    "print(12%10)   #to find the remainder"
   ]
  },
  {
   "cell_type": "code",
   "execution_count": 29,
   "id": "ca70d1b2-6799-46dc-8bcb-c2900a0132b1",
   "metadata": {},
   "outputs": [
    {
     "name": "stdout",
     "output_type": "stream",
     "text": [
      "1\n"
     ]
    }
   ],
   "source": [
    "print(12//10)  #to  find quoitent"
   ]
  },
  {
   "cell_type": "code",
   "execution_count": 30,
   "id": "445f544f-2260-4e8b-8cc1-73bde7e1b0ca",
   "metadata": {},
   "outputs": [
    {
     "name": "stdout",
     "output_type": "stream",
     "text": [
      "32\n"
     ]
    }
   ],
   "source": [
    "print(2**5) # power or exponent"
   ]
  },
  {
   "cell_type": "markdown",
   "id": "a0994508-794f-4975-aeb4-ced1fa242e71",
   "metadata": {},
   "source": [
    "#### ASsignment Operator\n"
   ]
  },
  {
   "cell_type": "code",
   "execution_count": 31,
   "id": "7bb6292d-fad3-4e33-9a19-a7f77f1a5282",
   "metadata": {},
   "outputs": [],
   "source": [
    "a=10\n",
    "a += 5 # which is also similar to a= a + 5"
   ]
  },
  {
   "cell_type": "code",
   "execution_count": 32,
   "id": "fd200f53-f3e9-4e85-bcac-a4bbac22b2e4",
   "metadata": {},
   "outputs": [
    {
     "name": "stdout",
     "output_type": "stream",
     "text": [
      "15\n"
     ]
    }
   ],
   "source": [
    "print(a)"
   ]
  },
  {
   "cell_type": "code",
   "execution_count": 33,
   "id": "ca492046-8e5c-476c-9d6c-220641609440",
   "metadata": {},
   "outputs": [
    {
     "name": "stdout",
     "output_type": "stream",
     "text": [
      "10\n"
     ]
    }
   ],
   "source": [
    "a-=5\n",
    "print(a)"
   ]
  },
  {
   "cell_type": "code",
   "execution_count": 34,
   "id": "ed37b19f-1b03-44aa-a02d-35f9ff3e4955",
   "metadata": {},
   "outputs": [
    {
     "name": "stdout",
     "output_type": "stream",
     "text": [
      "50\n"
     ]
    }
   ],
   "source": [
    "a *= 5\n",
    "print(a)"
   ]
  },
  {
   "cell_type": "code",
   "execution_count": 35,
   "id": "a4c755c1-3b1c-4e3f-b1d6-f4a32865d771",
   "metadata": {},
   "outputs": [
    {
     "name": "stdout",
     "output_type": "stream",
     "text": [
      "5.0\n"
     ]
    }
   ],
   "source": [
    "a=25\n",
    "a /= 5\n",
    "print(a)"
   ]
  },
  {
   "cell_type": "code",
   "execution_count": 36,
   "id": "8e6391bf-c305-4ede-add7-a55856d9be4c",
   "metadata": {},
   "outputs": [],
   "source": [
    "a **= 5"
   ]
  },
  {
   "cell_type": "code",
   "execution_count": 37,
   "id": "b3b81288-7f64-40f3-a358-977604bb9985",
   "metadata": {},
   "outputs": [
    {
     "name": "stdout",
     "output_type": "stream",
     "text": [
      "3125.0\n"
     ]
    }
   ],
   "source": [
    "print(a)"
   ]
  },
  {
   "cell_type": "code",
   "execution_count": 38,
   "id": "9932cbad-7294-4d7e-b4ae-ae07b604b1d9",
   "metadata": {},
   "outputs": [
    {
     "name": "stdout",
     "output_type": "stream",
     "text": [
      "2.0\n"
     ]
    }
   ],
   "source": [
    "a %= 3\n",
    "print(a)"
   ]
  },
  {
   "cell_type": "code",
   "execution_count": 39,
   "id": "2cf7a077-e3ae-4608-acd9-a8f1d7e22329",
   "metadata": {},
   "outputs": [
    {
     "name": "stdout",
     "output_type": "stream",
     "text": [
      "2.0\n"
     ]
    }
   ],
   "source": [
    "print(a)"
   ]
  },
  {
   "cell_type": "markdown",
   "id": "38f11551-ad33-4f0f-9d70-b92b8c217624",
   "metadata": {},
   "source": [
    " #### Comparision operator"
   ]
  },
  {
   "cell_type": "code",
   "execution_count": 40,
   "id": "5b56bfc2-c0c3-4c7f-aacd-273f60cb67d5",
   "metadata": {},
   "outputs": [
    {
     "data": {
      "text/plain": [
       "True"
      ]
     },
     "execution_count": 40,
     "metadata": {},
     "output_type": "execute_result"
    }
   ],
   "source": [
    "x=20; y=20\n",
    "x==y"
   ]
  },
  {
   "cell_type": "code",
   "execution_count": 41,
   "id": "c516a97b-e4f5-4898-9882-4c9effb8b7b9",
   "metadata": {},
   "outputs": [
    {
     "data": {
      "text/plain": [
       "False"
      ]
     },
     "execution_count": 41,
     "metadata": {},
     "output_type": "execute_result"
    }
   ],
   "source": [
    "x=20; y=20\n",
    "x!=y"
   ]
  },
  {
   "cell_type": "code",
   "execution_count": 42,
   "id": "f0e5d1e6-d99c-461e-a77b-6e0659ea7303",
   "metadata": {},
   "outputs": [
    {
     "data": {
      "text/plain": [
       "True"
      ]
     },
     "execution_count": 42,
     "metadata": {},
     "output_type": "execute_result"
    }
   ],
   "source": [
    "x=20;y=15\n",
    "x>y"
   ]
  },
  {
   "cell_type": "code",
   "execution_count": 43,
   "id": "efdab8e6-dedd-4dd3-b166-47bf0e254532",
   "metadata": {},
   "outputs": [
    {
     "data": {
      "text/plain": [
       "False"
      ]
     },
     "execution_count": 43,
     "metadata": {},
     "output_type": "execute_result"
    }
   ],
   "source": [
    "x=20;y=15\n",
    "x<y"
   ]
  },
  {
   "cell_type": "code",
   "execution_count": 44,
   "id": "376962c2-f569-4142-9773-53baa5131d42",
   "metadata": {},
   "outputs": [
    {
     "data": {
      "text/plain": [
       "True"
      ]
     },
     "execution_count": 44,
     "metadata": {},
     "output_type": "execute_result"
    }
   ],
   "source": [
    "x=20;y=15\n",
    "x>=y"
   ]
  },
  {
   "cell_type": "code",
   "execution_count": 45,
   "id": "a9f01630-d16f-43e0-a773-3a3d3d76aa80",
   "metadata": {},
   "outputs": [
    {
     "data": {
      "text/plain": [
       "True"
      ]
     },
     "execution_count": 45,
     "metadata": {},
     "output_type": "execute_result"
    }
   ],
   "source": [
    "x=20;y=20\n",
    "x<=y"
   ]
  },
  {
   "cell_type": "markdown",
   "id": "3add54e4-07f4-4131-b1d4-80739c8bd8fb",
   "metadata": {},
   "source": [
    "#### Logical operators\n"
   ]
  },
  {
   "cell_type": "code",
   "execution_count": 46,
   "id": "05142ca3-7301-442b-ba91-8972f0ac64d9",
   "metadata": {},
   "outputs": [
    {
     "data": {
      "text/plain": [
       "True"
      ]
     },
     "execution_count": 46,
     "metadata": {},
     "output_type": "execute_result"
    }
   ],
   "source": [
    "a=1\n",
    "b=2\n",
    "a==1 and b==2"
   ]
  },
  {
   "cell_type": "code",
   "execution_count": 47,
   "id": "529755b9-4321-4b71-b190-e712d56b48c6",
   "metadata": {},
   "outputs": [
    {
     "data": {
      "text/plain": [
       "False"
      ]
     },
     "execution_count": 47,
     "metadata": {},
     "output_type": "execute_result"
    }
   ],
   "source": [
    "a=1\n",
    "b=2\n",
    "a==1 and b==0"
   ]
  },
  {
   "cell_type": "code",
   "execution_count": 48,
   "id": "63e18f59-d255-42d0-9c80-65a350cf1f21",
   "metadata": {},
   "outputs": [
    {
     "data": {
      "text/plain": [
       "True"
      ]
     },
     "execution_count": 48,
     "metadata": {},
     "output_type": "execute_result"
    }
   ],
   "source": [
    "a=1\n",
    "b=2\n",
    "a==1 or b==0"
   ]
  },
  {
   "cell_type": "code",
   "execution_count": 49,
   "id": "706d013f-f44f-4e82-8e95-c462509ece6e",
   "metadata": {},
   "outputs": [
    {
     "data": {
      "text/plain": [
       "False"
      ]
     },
     "execution_count": 49,
     "metadata": {},
     "output_type": "execute_result"
    }
   ],
   "source": [
    "a=1\n",
    "b=2\n",
    "a==0 or b==1"
   ]
  },
  {
   "cell_type": "code",
   "execution_count": 50,
   "id": "84d4ecb0-4e4a-4b70-93c1-e54f12746687",
   "metadata": {},
   "outputs": [
    {
     "name": "stdout",
     "output_type": "stream",
     "text": [
      "False\n"
     ]
    },
    {
     "data": {
      "text/plain": [
       "True"
      ]
     },
     "execution_count": 50,
     "metadata": {},
     "output_type": "execute_result"
    }
   ],
   "source": [
    "b=0\n",
    "b==1\n",
    "print(b==1)\n",
    "not b"
   ]
  },
  {
   "cell_type": "markdown",
   "id": "d6b33c1c-2bda-4b93-86e6-6cef291a1ee3",
   "metadata": {},
   "source": [
    "#### Miscellaneous operatores\n",
    "2 types\n",
    "\n",
    "1.Identity operators : is , is not\n",
    "\n",
    "2.Membership operator: in , not in\n"
   ]
  },
  {
   "cell_type": "code",
   "execution_count": 51,
   "id": "85b6ef33-2a4a-44a7-a376-09793c47d824",
   "metadata": {},
   "outputs": [],
   "source": [
    "a=['a','b','c']; b=['a','b','c'] # identity operators checks for the same objects in the memory location"
   ]
  },
  {
   "cell_type": "code",
   "execution_count": 52,
   "id": "6c39e4ef-d56a-4015-a9f2-78585793d23e",
   "metadata": {},
   "outputs": [
    {
     "data": {
      "text/plain": [
       "False"
      ]
     },
     "execution_count": 52,
     "metadata": {},
     "output_type": "execute_result"
    }
   ],
   "source": [
    "a is b # we acn use print also "
   ]
  },
  {
   "cell_type": "code",
   "execution_count": 53,
   "id": "a9f84866-d5ef-4838-87ae-aa7eb14eecc4",
   "metadata": {},
   "outputs": [
    {
     "name": "stdout",
     "output_type": "stream",
     "text": [
      "True\n"
     ]
    }
   ],
   "source": [
    "a=['a','b','c']; b=a\n",
    "print(a is b)"
   ]
  },
  {
   "cell_type": "code",
   "execution_count": 54,
   "id": "9bdc5f7e-852b-4685-a7e4-9820090cf25a",
   "metadata": {},
   "outputs": [
    {
     "data": {
      "text/plain": [
       "False"
      ]
     },
     "execution_count": 54,
     "metadata": {},
     "output_type": "execute_result"
    }
   ],
   "source": [
    "a=['a','b','c']; b=a\n",
    "a is not b"
   ]
  },
  {
   "cell_type": "code",
   "execution_count": 55,
   "id": "41b05ba5-c8a7-4850-b3f3-04b0bb11b681",
   "metadata": {},
   "outputs": [
    {
     "data": {
      "text/plain": [
       "True"
      ]
     },
     "execution_count": 55,
     "metadata": {},
     "output_type": "execute_result"
    }
   ],
   "source": [
    "a=[10,20,30] \n",
    "20 in a"
   ]
  },
  {
   "cell_type": "code",
   "execution_count": 56,
   "id": "881e2658-5989-4a6a-a82e-0bc640872f42",
   "metadata": {},
   "outputs": [
    {
     "data": {
      "text/plain": [
       "False"
      ]
     },
     "execution_count": 56,
     "metadata": {},
     "output_type": "execute_result"
    }
   ],
   "source": [
    "a=[10,20,30] \n",
    "20 not in a  #not in reverse the result "
   ]
  },
  {
   "cell_type": "code",
   "execution_count": 57,
   "id": "4e4b4c28-6f0c-4601-9c67-c1ba6fba3155",
   "metadata": {},
   "outputs": [
    {
     "data": {
      "text/plain": [
       "False"
      ]
     },
     "execution_count": 57,
     "metadata": {},
     "output_type": "execute_result"
    }
   ],
   "source": [
    "a=[10,20,30] \n",
    "50 in  a"
   ]
  },
  {
   "cell_type": "code",
   "execution_count": 58,
   "id": "171d2837-f6d3-4cba-bec1-cee2a5d97e50",
   "metadata": {},
   "outputs": [
    {
     "name": "stdout",
     "output_type": "stream",
     "text": [
      "True\n"
     ]
    }
   ],
   "source": [
    "a=[10,20,30] \n",
    "print(50  not in  a )"
   ]
  },
  {
   "cell_type": "markdown",
   "id": "61a4c84f-d53b-49e8-a7b0-fbcc6d60efb5",
   "metadata": {},
   "source": [
    "## Strings\n"
   ]
  },
  {
   "cell_type": "code",
   "execution_count": 59,
   "id": "c2ef53c0-c957-4239-aca4-0a7f14a181ca",
   "metadata": {},
   "outputs": [
    {
     "name": "stdout",
     "output_type": "stream",
     "text": [
      "hello people are you exited!\n",
      "hello people are you exited!\n",
      "He's my Friend\n"
     ]
    }
   ],
   "source": [
    "a= \"hello people are you exited!\"\n",
    "B= 'hello people are you exited!'\n",
    "\n",
    "C=\"He's my Friend\"\n",
    "print(a)\n",
    "print(B)\n",
    "print(C)"
   ]
  },
  {
   "cell_type": "code",
   "execution_count": 60,
   "id": "9aa40cda-23cb-4339-b515-9d6bdf59d6e3",
   "metadata": {},
   "outputs": [
    {
     "name": "stdout",
     "output_type": "stream",
     "text": [
      "hi people.\n",
      "my name is chandan \t ; learning python\n"
     ]
    }
   ],
   "source": [
    "D=\"hi people.\\nmy name is chandan \\t ; learning python\"\n",
    "print(D)"
   ]
  },
  {
   "cell_type": "code",
   "execution_count": 61,
   "id": "4313ad4f-3010-45ad-ba52-8ed290ff8c95",
   "metadata": {},
   "outputs": [
    {
     "name": "stdout",
     "output_type": "stream",
     "text": [
      " hi people\n",
      " of India. hope everyone doing\n",
      " great\n"
     ]
    }
   ],
   "source": [
    "f= ''' hi people\n",
    " of India. hope everyone doing\n",
    " great'''\n",
    "print(f)"
   ]
  },
  {
   "cell_type": "markdown",
   "id": "edadd626-3c13-4338-95e0-406cc8ae5a8b",
   "metadata": {},
   "source": [
    "# Class 2\n",
    "##### String methods"
   ]
  },
  {
   "cell_type": "code",
   "execution_count": 62,
   "id": "66bba397-d6a4-4564-865c-d8e9ebf8fbb5",
   "metadata": {},
   "outputs": [
    {
     "name": "stdout",
     "output_type": "stream",
     "text": [
      "HI I AM CHANDAN\n"
     ]
    }
   ],
   "source": [
    "string = \"hi i am chandan\"\n",
    "print(string.upper()) # we can also use with out print for the output\n"
   ]
  },
  {
   "cell_type": "code",
   "execution_count": 63,
   "id": "332fc4ce-1e12-4252-bbee-82af196cae76",
   "metadata": {},
   "outputs": [
    {
     "name": "stdout",
     "output_type": "stream",
     "text": [
      "hi i am chandan\n",
      "<built-in method lower of str object at 0x000001DE78DB8030>\n"
     ]
    }
   ],
   "source": [
    "string =  'HI I AM CHANDAN'\n",
    "print(string.lower())\n",
    "print(string.lower)# to find the location without braces used"
   ]
  },
  {
   "cell_type": "code",
   "execution_count": 64,
   "id": "7b693ba2-eb7e-4c49-85ff-18e47ff0afda",
   "metadata": {},
   "outputs": [
    {
     "name": "stdout",
     "output_type": "stream",
     "text": [
      "Hi i am chandan\n"
     ]
    }
   ],
   "source": [
    "string = \"hi i am chandan\"\n",
    "print(string.capitalize())"
   ]
  },
  {
   "cell_type": "code",
   "execution_count": 65,
   "id": "afa8122a-5132-4350-9311-32fb4573faa9",
   "metadata": {},
   "outputs": [
    {
     "data": {
      "text/plain": [
       "'Hi I Am Chandan'"
      ]
     },
     "execution_count": 65,
     "metadata": {},
     "output_type": "execute_result"
    }
   ],
   "source": [
    "string = \"hi i am chandan\"\n",
    "string.title()"
   ]
  },
  {
   "cell_type": "code",
   "execution_count": 66,
   "id": "64d46570-ff55-4bce-bd72-28835ee48173",
   "metadata": {},
   "outputs": [
    {
     "data": {
      "text/plain": [
       "'hi i am chandan'"
      ]
     },
     "execution_count": 66,
     "metadata": {},
     "output_type": "execute_result"
    }
   ],
   "source": [
    "string = \"hi i am chandan\"\n",
    "string.strip()"
   ]
  },
  {
   "cell_type": "code",
   "execution_count": 67,
   "id": "43f036b7-9f3b-4ff7-a04b-34f095e922bd",
   "metadata": {},
   "outputs": [
    {
     "name": "stdout",
     "output_type": "stream",
     "text": [
      "HI I AM CHANDAN\n"
     ]
    }
   ],
   "source": [
    "string =  'HI I AM CHANDAN'\n",
    "print(string.strip())\n"
   ]
  },
  {
   "cell_type": "code",
   "execution_count": 68,
   "id": "9646238d-6195-4dbc-ad40-193a19c840de",
   "metadata": {},
   "outputs": [
    {
     "data": {
      "text/plain": [
       "2"
      ]
     },
     "execution_count": 68,
     "metadata": {},
     "output_type": "execute_result"
    }
   ],
   "source": [
    "string.count('I')"
   ]
  },
  {
   "cell_type": "code",
   "execution_count": 69,
   "id": "d252a59b-f06c-45c1-ba1d-b961d6b0f91c",
   "metadata": {},
   "outputs": [
    {
     "data": {
      "text/plain": [
       "True"
      ]
     },
     "execution_count": 69,
     "metadata": {},
     "output_type": "execute_result"
    }
   ],
   "source": [
    "string.endswith(\"AN\")"
   ]
  },
  {
   "cell_type": "code",
   "execution_count": 70,
   "id": "b959a4c7-3877-4b4e-82c7-4e0233c3b239",
   "metadata": {},
   "outputs": [
    {
     "name": "stdout",
     "output_type": "stream",
     "text": [
      "15\n"
     ]
    }
   ],
   "source": [
    "print(len(string))"
   ]
  },
  {
   "cell_type": "markdown",
   "id": "4141b02b-945c-48d5-880c-e2e23e152b30",
   "metadata": {},
   "source": [
    "## File handelling in Python"
   ]
  },
  {
   "cell_type": "code",
   "execution_count": 71,
   "id": "f19fc9fe-cefe-4830-a1bf-59e4f4828d7a",
   "metadata": {},
   "outputs": [
    {
     "ename": "FileNotFoundError",
     "evalue": "[Errno 2] No such file or directory: 'example.txt'",
     "output_type": "error",
     "traceback": [
      "\u001b[31m---------------------------------------------------------------------------\u001b[39m",
      "\u001b[31mFileNotFoundError\u001b[39m                         Traceback (most recent call last)",
      "\u001b[36mCell\u001b[39m\u001b[36m \u001b[39m\u001b[32mIn[71]\u001b[39m\u001b[32m, line 1\u001b[39m\n\u001b[32m----> \u001b[39m\u001b[32m1\u001b[39m file= \u001b[38;5;28;43mopen\u001b[39;49m\u001b[43m(\u001b[49m\u001b[33;43m\"\u001b[39;49m\u001b[33;43mexample.txt\u001b[39;49m\u001b[33;43m\"\u001b[39;49m\u001b[43m,\u001b[49m\u001b[33;43m'\u001b[39;49m\u001b[33;43mr\u001b[39;49m\u001b[33;43m'\u001b[39;49m\u001b[43m)\u001b[49m \u001b[38;5;66;03m# open the file\u001b[39;00m\n\u001b[32m      2\u001b[39m content= file.read() \u001b[38;5;66;03m# read the content\u001b[39;00m\n\u001b[32m      3\u001b[39m \u001b[38;5;28mprint\u001b[39m(content)  \u001b[38;5;66;03m# print The content\u001b[39;00m\n",
      "\u001b[36mFile \u001b[39m\u001b[32m~\\AppData\\Roaming\\Python\\Python313\\site-packages\\IPython\\core\\interactiveshell.py:343\u001b[39m, in \u001b[36m_modified_open\u001b[39m\u001b[34m(file, *args, **kwargs)\u001b[39m\n\u001b[32m    336\u001b[39m \u001b[38;5;28;01mif\u001b[39;00m file \u001b[38;5;129;01min\u001b[39;00m {\u001b[32m0\u001b[39m, \u001b[32m1\u001b[39m, \u001b[32m2\u001b[39m}:\n\u001b[32m    337\u001b[39m     \u001b[38;5;28;01mraise\u001b[39;00m \u001b[38;5;167;01mValueError\u001b[39;00m(\n\u001b[32m    338\u001b[39m         \u001b[33mf\u001b[39m\u001b[33m\"\u001b[39m\u001b[33mIPython won\u001b[39m\u001b[33m'\u001b[39m\u001b[33mt let you open fd=\u001b[39m\u001b[38;5;132;01m{\u001b[39;00mfile\u001b[38;5;132;01m}\u001b[39;00m\u001b[33m by default \u001b[39m\u001b[33m\"\u001b[39m\n\u001b[32m    339\u001b[39m         \u001b[33m\"\u001b[39m\u001b[33mas it is likely to crash IPython. If you know what you are doing, \u001b[39m\u001b[33m\"\u001b[39m\n\u001b[32m    340\u001b[39m         \u001b[33m\"\u001b[39m\u001b[33myou can use builtins\u001b[39m\u001b[33m'\u001b[39m\u001b[33m open.\u001b[39m\u001b[33m\"\u001b[39m\n\u001b[32m    341\u001b[39m     )\n\u001b[32m--> \u001b[39m\u001b[32m343\u001b[39m \u001b[38;5;28;01mreturn\u001b[39;00m \u001b[43mio_open\u001b[49m\u001b[43m(\u001b[49m\u001b[43mfile\u001b[49m\u001b[43m,\u001b[49m\u001b[43m \u001b[49m\u001b[43m*\u001b[49m\u001b[43margs\u001b[49m\u001b[43m,\u001b[49m\u001b[43m \u001b[49m\u001b[43m*\u001b[49m\u001b[43m*\u001b[49m\u001b[43mkwargs\u001b[49m\u001b[43m)\u001b[49m\n",
      "\u001b[31mFileNotFoundError\u001b[39m: [Errno 2] No such file or directory: 'example.txt'"
     ]
    }
   ],
   "source": [
    "file= open(\"example.txt\",'r') # open the file\n",
    "content= file.read() # read the content\n",
    "print(content)  # print The content\n",
    "file.close()   # close the file"
   ]
  },
  {
   "cell_type": "code",
   "execution_count": null,
   "id": "42c7a245-4578-4eee-b224-5529566dc50a",
   "metadata": {},
   "outputs": [],
   "source": [
    "file= open(\"example.txt\",'w')  # write \n",
    "file.write ('Hello all')\n",
    "print(file)\n",
    "file= open(\"example.txt\",'r')\n",
    "content= file.read() \n",
    "print(content)\n",
    "file.close()  \n"
   ]
  },
  {
   "cell_type": "code",
   "execution_count": null,
   "id": "337d57b3-7b4d-4876-b4cd-791e4c8d712b",
   "metadata": {},
   "outputs": [],
   "source": [
    "file.close()"
   ]
  },
  {
   "cell_type": "code",
   "execution_count": null,
   "id": "2ed6169e-0bb8-4c0c-a460-d5d2194fd776",
   "metadata": {},
   "outputs": [],
   "source": [
    "file= open(\"example.txt\",'w')  # write\n",
    "file.write('i am learning how to write')"
   ]
  },
  {
   "cell_type": "code",
   "execution_count": null,
   "id": "e7044e8c-0096-49cf-bc97-8156dce56efd",
   "metadata": {},
   "outputs": [],
   "source": [
    "file.close()"
   ]
  },
  {
   "cell_type": "code",
   "execution_count": null,
   "id": "13dc7a71-f7ff-46de-a1a3-5945827c8366",
   "metadata": {},
   "outputs": [],
   "source": [
    "file=open('example.txt','r') # in jupyter  to see the text over-write content in file  takes time \n",
    "print(file.read())\n",
    "file.close()"
   ]
  },
  {
   "cell_type": "code",
   "execution_count": null,
   "id": "292d8c1f-50ae-45cc-9d68-26207ab758a1",
   "metadata": {},
   "outputs": [],
   "source": [
    "file= open('example.txt','a')  # append\n",
    "file.write('\\ni am adding content in next line without overwiriting')\n",
    "file.close()"
   ]
  },
  {
   "cell_type": "code",
   "execution_count": null,
   "id": "064c7b6e-1078-47d2-93ca-a9fbda3fbcc5",
   "metadata": {},
   "outputs": [],
   "source": [
    "file= open('example.txt','r')\n",
    "c=file.read()\n",
    "print(c)"
   ]
  },
  {
   "cell_type": "code",
   "execution_count": null,
   "id": "db0eb08f-4632-41b9-aea8-71de903f415a",
   "metadata": {},
   "outputs": [],
   "source": [
    "file.close()"
   ]
  },
  {
   "cell_type": "markdown",
   "id": "ef6fb971-858c-4355-9084-63cb2e9da872",
   "metadata": {},
   "source": [
    "## Conditional statement"
   ]
  },
  {
   "cell_type": "code",
   "execution_count": null,
   "id": "adf92f4b-e5f7-47fc-ae72-4f3387a083f0",
   "metadata": {},
   "outputs": [],
   "source": [
    "nationality = \"Indian\"\n",
    "if nationality == \"french\" :\n",
    "    print(\"hello\")\n",
    "else:\n",
    "    print(\"hola!\")"
   ]
  },
  {
   "cell_type": "code",
   "execution_count": null,
   "id": "5d6f1a4b-2d72-48e5-b7e9-6c34ada0e322",
   "metadata": {},
   "outputs": [],
   "source": [
    "nationality = \"Indian\"\n",
    "if nationality == \"french\" :\n",
    "    print(\"hello\")\n",
    "elif nationality == 'Indian':\n",
    "    print('Namesthe')\n",
    "else:\n",
    "    print(\"hola!\")"
   ]
  },
  {
   "cell_type": "code",
   "execution_count": null,
   "id": "8a05480d-5aed-4e34-aecb-74e5823cffb2",
   "metadata": {},
   "outputs": [],
   "source": [
    "nationality = \"Indian\"\n",
    "if nationality == \"Indian\" :\n",
    "    print(\"Nameste\")\n",
    "    if nationality == 'French':\n",
    "        print('hola')\n",
    "else:\n",
    "    print(\"hello\")"
   ]
  },
  {
   "cell_type": "code",
   "execution_count": null,
   "id": "ba0accf4-aee7-40dd-a05e-6be29b80ab58",
   "metadata": {},
   "outputs": [],
   "source": [
    "a= 25\n",
    "if a >= 18 :\n",
    "    print(\"can vote\") \n",
    "    if a == 10:\n",
    "        print (\"can not vote\")\n",
    "else:\n",
    "    print(\"can not vote\")"
   ]
  },
  {
   "cell_type": "code",
   "execution_count": null,
   "id": "a0a0272d-e3c8-4b81-a1c4-da99c6234b05",
   "metadata": {},
   "outputs": [],
   "source": [
    "start= \"time left\"\n",
    "if start== \"rains tomorrow\" :\n",
    "    print('go and do chlothes and chore')\n",
    "elif start == \"time left\":\n",
    "         print('do taxex')\n",
    "else:\n",
    "         print('swimming')"
   ]
  },
  {
   "cell_type": "code",
   "execution_count": null,
   "id": "d4fd17e4-452e-4272-97c3-72b33f7ed781",
   "metadata": {},
   "outputs": [],
   "source": [
    "marks= 75\n",
    "if marks >=90:\n",
    "    print(\"grade : A\")\n",
    "elif marks >=75:\n",
    "    print(\"grade : B\")\n",
    "elif marks >=55:\n",
    "    print(\"grade : c\")\n",
    "elif marks >=35:\n",
    "    print(\"grade : D\")\n",
    "else:\n",
    "    print(\"grade : F\")"
   ]
  },
  {
   "cell_type": "code",
   "execution_count": null,
   "id": "3d62d6d9-178e-4de8-aa0e-060528dff2d1",
   "metadata": {},
   "outputs": [],
   "source": [
    "marks =65\n",
    "if marks >=90 :\n",
    "    print(\"Grade :  A\")\n",
    "elif marks  >=75 and marks < 90:\n",
    "    print(\"grade : B\")\n",
    "elif marks  >= 55 and marks < 75:\n",
    "    print(\"grade : c\")\n",
    "elif marks  >=35 and marks < 55:\n",
    "    print(\"grade : D\") \n",
    "else:\n",
    "    print(\"grade : f\")"
   ]
  },
  {
   "cell_type": "code",
   "execution_count": null,
   "id": "6461c2b8-8b24-4dc4-a97a-5a004f97c831",
   "metadata": {},
   "outputs": [],
   "source": [
    "a=5\n",
    "b=6\n",
    "c=7"
   ]
  },
  {
   "cell_type": "code",
   "execution_count": null,
   "id": "a694688b-9683-48b5-a671-8a211f95ceb7",
   "metadata": {},
   "outputs": [],
   "source": [
    "if  a > b:\n",
    "    print(\"a is  greater than  b\") # since this is false the entire if and nested if block get skip and moves to the next else block\n",
    "    if  a>c :\n",
    "        print(\"a is also  greater than c \")\n",
    "    else:\n",
    "        print(\"a is smaller then c and b\")\n",
    "else :\n",
    "    print(\"b is greater than a\")\n",
    "    if b>c :\n",
    "        print(\"b is greater than c\")\n",
    "    else:\n",
    "        print(\"b is smaller than c\")"
   ]
  },
  {
   "cell_type": "markdown",
   "id": "c78aaebc-6f87-4fde-aac6-9bf081a9ae8c",
   "metadata": {},
   "source": [
    "# Loops\n",
    "for multiple times printing or repeate the instructions of statements or group of statements"
   ]
  },
  {
   "cell_type": "code",
   "execution_count": null,
   "id": "ed8b02be-6834-41a4-bf16-185afe34098b",
   "metadata": {},
   "outputs": [],
   "source": [
    "a= \"hello\"\n",
    "i=1\n",
    "while i<10:\n",
    "    print(a) # prints 1 to n-1 times\n",
    "    i+=1 # we are Incrementing\n"
   ]
  },
  {
   "cell_type": "code",
   "execution_count": null,
   "id": "7f1ff448-f85d-4651-a555-d2f4dbc270bd",
   "metadata": {},
   "outputs": [],
   "source": [
    "a= [\"Mango\",\"apple\"]\n",
    "for string in a:\n",
    "    print(string)\n",
    "    for string2 in string:\n",
    "        print (string2)\n",
    "  "
   ]
  },
  {
   "cell_type": "code",
   "execution_count": null,
   "id": "6cddf8ec-8764-4af9-bacb-2917b07475c7",
   "metadata": {},
   "outputs": [],
   "source": [
    "for i in range (0,10,2):\n",
    "    print(i) "
   ]
  },
  {
   "cell_type": "code",
   "execution_count": null,
   "id": "94f01ab2-4eaf-4ac4-8a4a-d9c647432551",
   "metadata": {},
   "outputs": [],
   "source": [
    "for i in range(1,10,2):\n",
    "    print(i)"
   ]
  },
  {
   "cell_type": "code",
   "execution_count": null,
   "id": "6edc5615-07d7-43b2-b75f-3c375ae2324f",
   "metadata": {},
   "outputs": [],
   "source": [
    "n= 10\n",
    "i=0\n",
    "while i<10:\n",
    "    print (\" hi people\") # prints  0 to n-1 times\n",
    "    i+=1"
   ]
  },
  {
   "cell_type": "code",
   "execution_count": null,
   "id": "582603c7-2dce-4ca5-bb76-f2b98aeda2fe",
   "metadata": {},
   "outputs": [],
   "source": [
    "range(0,10)"
   ]
  },
  {
   "cell_type": "code",
   "execution_count": null,
   "id": "1ad8572b-9406-4fc1-8b25-561df82a8927",
   "metadata": {},
   "outputs": [],
   "source": [
    "for i  in range (10):\n",
    "    print (\"Hi There!\") # prints 0 to 9 i.e n-1 "
   ]
  },
  {
   "cell_type": "code",
   "execution_count": null,
   "id": "da7b5093-0892-4b30-a009-4fafc651b36f",
   "metadata": {},
   "outputs": [],
   "source": [
    " for i in range(2,10,2):\n",
    "        print(i)\n",
    "\n",
    "    "
   ]
  },
  {
   "cell_type": "code",
   "execution_count": null,
   "id": "d5f83f8a-ff8f-47bc-bae6-be205d1d5664",
   "metadata": {},
   "outputs": [],
   "source": [
    "string= \"python\"\n",
    "for i in string :\n",
    "    print(i)"
   ]
  },
  {
   "cell_type": "markdown",
   "id": "7b37fda5-9b13-43bd-a3ef-b87d0adfe720",
   "metadata": {},
   "source": [
    "#### Nested loop"
   ]
  },
  {
   "cell_type": "code",
   "execution_count": null,
   "id": "5cd459b4-de40-44fa-909d-b2de72c1a45b",
   "metadata": {},
   "outputs": [],
   "source": [
    "a= [\"Mango\",\"apple\"]\n",
    "for i in a:\n",
    "    print(i)\n",
    "    for j in i:\n",
    "        print (j)"
   ]
  },
  {
   "cell_type": "code",
   "execution_count": null,
   "id": "4acca181-5863-4598-a0c7-af71a773fd7b",
   "metadata": {},
   "outputs": [],
   "source": [
    "a= [\"Mango\",\"apple\"]\n",
    "for i in a:\n",
    "    print(i)\n",
    "for j in i:\n",
    "     print (j)"
   ]
  },
  {
   "cell_type": "markdown",
   "id": "9a0cabbe-7eb0-409c-848c-f97564833042",
   "metadata": {},
   "source": [
    "a= [\"Mango\",\"apple\"]\n",
    "for i in a:\n",
    "    print(i)\n",
    "    for j in i:\n",
    "        print (j, end=\" \")\n",
    "    print(\"\\n\")\n"
   ]
  },
  {
   "cell_type": "code",
   "execution_count": null,
   "id": "24092948-4aa1-40d5-b58c-e765ad9079e0",
   "metadata": {},
   "outputs": [],
   "source": [
    "for i in range (2,11):\n",
    "    for j in range (1,11):\n",
    "        print('{:2d} x{:2d}={:2d}'.format(i,j,i*j))\n",
    "    print(\"end of multiplication\")"
   ]
  },
  {
   "cell_type": "code",
   "execution_count": null,
   "id": "791adff3-8df8-4d9a-abfa-7e14d8926e1b",
   "metadata": {},
   "outputs": [],
   "source": [
    "for i in range (10): # testing\n",
    "    print(i)"
   ]
  },
  {
   "cell_type": "markdown",
   "id": "a3886795-045a-4b29-a3de-c97667bd4b3c",
   "metadata": {},
   "source": [
    "## Loop controll Statements \n",
    "break\n",
    "\n",
    "continue"
   ]
  },
  {
   "cell_type": "code",
   "execution_count": null,
   "id": "7f71fc7f-a35c-44c2-86d7-8874dcb4f640",
   "metadata": {},
   "outputs": [],
   "source": [
    "string= \"python\"\n",
    "for i in string:\n",
    "    if i== \"h\":\n",
    "        break # gets out of loop or stops the loop\n",
    "    print(i)"
   ]
  },
  {
   "cell_type": "code",
   "execution_count": null,
   "id": "bcfe03f8-2dac-4eaa-a303-cab43b2310e8",
   "metadata": {},
   "outputs": [],
   "source": [
    "string= \"python\"\n",
    "for i in string:\n",
    "    if i== \"h\":\n",
    "        continue # skips the character\n",
    "    print(i)"
   ]
  },
  {
   "cell_type": "markdown",
   "id": "684aeb60-8e26-43e1-9267-4ee6d8c99c33",
   "metadata": {},
   "source": [
    "# Loop else statement"
   ]
  },
  {
   "cell_type": "code",
   "execution_count": null,
   "id": "6f8c5a31-1e24-4c61-951a-2fe91803703a",
   "metadata": {},
   "outputs": [],
   "source": [
    "number=[1,2,3,4,5,6]\n",
    "for i in number:\n",
    "    if i== 4:\n",
    "        print(\"number Found\")\n",
    "else :\n",
    "    (\"number not found\")"
   ]
  },
  {
   "cell_type": "code",
   "execution_count": null,
   "id": "8ffc7f46-c79a-4018-9d4b-3910574f557b",
   "metadata": {},
   "outputs": [],
   "source": [
    "number=[1,2,3,4,5,6]\n",
    "for i in number:\n",
    "    if i== 8:\n",
    "        print(\"number Found\")\n",
    "else :\n",
    "    print(\"number not found\")"
   ]
  },
  {
   "cell_type": "code",
   "execution_count": null,
   "id": "6565c70f-8018-48a8-9739-452a66ce41c6",
   "metadata": {},
   "outputs": [],
   "source": [
    "n=0\n",
    "while n< 5:\n",
    "    print(\"num\",n)\n",
    "    if n==3:\n",
    "        print (\"found 3\")\n",
    "        break\n",
    "    n += 1\n",
    "   \n",
    "else:\n",
    "    print (\"not\")"
   ]
  },
  {
   "cell_type": "markdown",
   "id": "af643738-ca24-476e-b76b-b09fa331bb86",
   "metadata": {},
   "source": [
    "# Function"
   ]
  },
  {
   "cell_type": "code",
   "execution_count": null,
   "id": "503420e8-3187-4afa-807a-9c3c14d34a3c",
   "metadata": {},
   "outputs": [],
   "source": [
    "def Sum_of_2_no(x,y):\n",
    "    print(x+y)"
   ]
  },
  {
   "cell_type": "code",
   "execution_count": null,
   "id": "734a7a1d-8d1d-4fb6-89db-96cae16fda75",
   "metadata": {},
   "outputs": [],
   "source": [
    "Sum_of_2_no(10,20)"
   ]
  },
  {
   "cell_type": "code",
   "execution_count": null,
   "id": "81b18f0b-a0e5-4232-8723-d8b9f58c9667",
   "metadata": {},
   "outputs": [],
   "source": [
    "Sum_of_2_no(120,130)"
   ]
  },
  {
   "cell_type": "code",
   "execution_count": null,
   "id": "ff023be3-7698-4774-ad94-eb16906d802e",
   "metadata": {},
   "outputs": [],
   "source": [
    "def greetings_1 (Name):\n",
    "    print(\"Hi\",Name)\n",
    "greetings_1(\"Chandan\")"
   ]
  },
  {
   "cell_type": "code",
   "execution_count": null,
   "id": "daa704d3-95c6-48e1-9645-3c1db348aa9d",
   "metadata": {},
   "outputs": [],
   "source": [
    "def greeting (Name):\n",
    "    print(\"Hi\",Name)\n",
    "greeting(\"Chandan\")"
   ]
  },
  {
   "cell_type": "code",
   "execution_count": null,
   "id": "bd3b602d-7087-4b95-b23d-8b4fcd5649c9",
   "metadata": {},
   "outputs": [],
   "source": [
    "greeting(\"Raju\")\n",
    "         "
   ]
  },
  {
   "cell_type": "code",
   "execution_count": null,
   "id": "8c6a17f9-14cd-41cd-b661-59db1c819347",
   "metadata": {},
   "outputs": [],
   "source": [
    "def greetings(Greeting,Name,Age):\n",
    "    print(Greeting,\"\\nMy Name:\",Name,\"\\nMy age:\",Age)\n",
    "greetings (\"Hello\",\"Chandan\",23)"
   ]
  },
  {
   "cell_type": "code",
   "execution_count": null,
   "id": "2452272e-b911-471c-a818-137017deda39",
   "metadata": {},
   "outputs": [],
   "source": [
    "greetings (\"Hello\",23,\"Chandan\") "
   ]
  },
  {
   "cell_type": "markdown",
   "id": "b64086a0-e052-4446-a2c7-b6e4c99eb292",
   "metadata": {},
   "source": [
    "## Default Parameters Function"
   ]
  },
  {
   "cell_type": "code",
   "execution_count": null,
   "id": "2dfb981b-f09f-498c-b525-8e8f4b15fed0",
   "metadata": {},
   "outputs": [],
   "source": [
    "# to avoid these kind of the above mistake we can add variable name inside the function call parenthesis\n",
    "greetings(Greeting=\"Hello\",Name=\"Chandan\",Age=23)"
   ]
  },
  {
   "cell_type": "code",
   "execution_count": null,
   "id": "25049f6e-f0ff-447f-a8f2-43eb2b3d5251",
   "metadata": {},
   "outputs": [],
   "source": [
    "greetings(Name=\"Chandan\",Greeting=\"Hello\",Age=23) "
   ]
  },
  {
   "cell_type": "code",
   "execution_count": null,
   "id": "aaa3c8e7-10e2-484b-b3df-63abd7e20471",
   "metadata": {},
   "outputs": [],
   "source": [
    " def greetings(Name=\"Chandan\",Greeting=\"Hello\",Age=23): # We can write these type also, THis is Known as valuse writing along with the arguments\n",
    "    print(Name,Greeting,Age)"
   ]
  },
  {
   "cell_type": "code",
   "execution_count": null,
   "id": "c414f705-b0bd-407f-997d-2c1c7f7393bc",
   "metadata": {},
   "outputs": [],
   "source": [
    "print(greetings())"
   ]
  },
  {
   "cell_type": "code",
   "execution_count": null,
   "id": "d6179460-e359-43ea-af32-9a487fb03d0c",
   "metadata": {},
   "outputs": [],
   "source": [
    " def greetings(Name,Greeting=\"Hello\",Age=23):  # note always the 1st argument can not be default agrument\n",
    "    print(Name,Greeting,Age)"
   ]
  },
  {
   "cell_type": "code",
   "execution_count": null,
   "id": "fc7d3162-0fc8-48af-b01e-7541b1ab07f3",
   "metadata": {},
   "outputs": [],
   "source": [
    "greetings('chandan')"
   ]
  },
  {
   "cell_type": "code",
   "execution_count": null,
   "id": "77667508-4b6f-48bb-b8a7-a2f95e2a884a",
   "metadata": {},
   "outputs": [],
   "source": [
    "greetings('chnadan','Hi....',24) # these overwrites the default valuse.  You can see chanfe from Hello<==>Hi...., 23 to 24"
   ]
  },
  {
   "cell_type": "code",
   "execution_count": null,
   "id": "1e3ffef2-2a35-4004-af6f-95a03b74fd55",
   "metadata": {},
   "outputs": [],
   "source": [
    "greetings(Greeting=\"hi\",Name='chanadan',Age=24)"
   ]
  },
  {
   "cell_type": "markdown",
   "id": "a44270d5-0134-4f1b-ad0d-eaef10037aa0",
   "metadata": {},
   "source": [
    "# Arbitary Functions\n",
    "*args\n",
    "\n",
    "**kwargs"
   ]
  },
  {
   "cell_type": "code",
   "execution_count": null,
   "id": "0c8d5476-f9e7-4ffe-82e6-6d498ca25dbe",
   "metadata": {},
   "outputs": [],
   "source": [
    "def sum_of_num(x,y):\n",
    "    print(x+y)\n",
    "sum_of_num(10,20,30) # for these to over come the error we use arbitary functions\n"
   ]
  },
  {
   "cell_type": "code",
   "execution_count": null,
   "id": "fcd5c7da-3165-4979-94ea-2ad14e49220e",
   "metadata": {},
   "outputs": [],
   "source": [
    "def sum_of_numbers_v2(*num):     # *args\n",
    "    sum=0\n",
    "    for i in num:\n",
    "        sum +=i\n",
    "    print(sum)\n",
    "sum_of_numbers_v2(10,20,30,1234,89,90,10000)"
   ]
  },
  {
   "cell_type": "markdown",
   "id": "47a53420-880b-4d36-8704-37907b7af8f3",
   "metadata": {},
   "source": [
    "Task: Prepare a function, which can take n number of arguments and it has to print the heighest number"
   ]
  },
  {
   "cell_type": "code",
   "execution_count": null,
   "id": "96aca3b3-ba52-4705-918f-bcab53bf3db5",
   "metadata": {},
   "outputs": [],
   "source": [
    "def max_no(*num):\n",
    "    Number=0\n",
    "    for i in num:\n",
    "        if i>Number:\n",
    "            Number=i\n",
    "    print(Number)\n",
    "max_no(1,2,3,4,5,10)"
   ]
  },
  {
   "cell_type": "markdown",
   "id": "3cdf58df-908a-48fc-9bac-e44d1643f3bf",
   "metadata": {},
   "source": [
    "##  understand what is dictionary"
   ]
  },
  {
   "cell_type": "code",
   "execution_count": null,
   "id": "31027082-a602-4b03-8f0b-fb3139c7d6e0",
   "metadata": {},
   "outputs": [],
   "source": [
    "my_dict={\"Name\":\"Chanadan\",\"Age\":23,\"pass\":True}\n",
    "my_dict.keys() # returns the keys"
   ]
  },
  {
   "cell_type": "code",
   "execution_count": null,
   "id": "e488bf79-4744-40b6-96c8-207051a8b10a",
   "metadata": {},
   "outputs": [],
   "source": [
    "my_dict.values() #Gives the values "
   ]
  },
  {
   "cell_type": "code",
   "execution_count": null,
   "id": "18b27513-8ff6-48d1-9d4c-2cf505a210fd",
   "metadata": {},
   "outputs": [],
   "source": [
    "my_dict.items() # gives the pairs\n"
   ]
  },
  {
   "cell_type": "code",
   "execution_count": null,
   "id": "952b45a7-3af4-4183-9243-d237059660eb",
   "metadata": {},
   "outputs": [],
   "source": [
    "my_dict['Name']"
   ]
  },
  {
   "cell_type": "markdown",
   "id": "1c6d0628-6e06-4e35-b625-ed70b6b36aaa",
   "metadata": {},
   "source": [
    "### **Kwargs"
   ]
  },
  {
   "cell_type": "code",
   "execution_count": null,
   "id": "0fe4ac58-dc01-4e0d-86c4-4081ccb70508",
   "metadata": {},
   "outputs": [],
   "source": [
    "def information(**info):\n",
    "    for i in info.keys():\n",
    "        print(i,\":\",info[i])\n",
    "    "
   ]
  },
  {
   "cell_type": "code",
   "execution_count": null,
   "id": "21683f9f-8ebb-42cf-b3e8-91aeff2ae258",
   "metadata": {},
   "outputs": [],
   "source": [
    "information(name = \"Chandan\",Age = 23) # this takes the n number of dict values\n"
   ]
  },
  {
   "cell_type": "code",
   "execution_count": null,
   "id": "b6c4060a-242b-4d9d-a31f-70c7620ffbe9",
   "metadata": {},
   "outputs": [],
   "source": [
    "information(name=\"\\tChandan\",Age=\"\\t23\",Sur_name=\"\\tN\",Qualification= \"\\tBtech\") "
   ]
  },
  {
   "cell_type": "code",
   "execution_count": null,
   "id": "318b609e-070e-4a59-859b-5b8de3478c69",
   "metadata": {},
   "outputs": [],
   "source": [
    "information(name=[\"Chandan\",\"Rajesh\",\"Abhi\"],Age=[23,22,22],Sur_name=\"\\tN\",Qualification= \"\\tBtech\")  # if we wants to unpack we can use the loops"
   ]
  },
  {
   "cell_type": "code",
   "execution_count": null,
   "id": "7af7c7fe-6282-484c-b15a-b96f880501ba",
   "metadata": {
    "tags": []
   },
   "outputs": [],
   "source": [
    "def information(**info): ## We can use item dict aswell\n",
    "    for i,j in info.items():\n",
    "        print(i,\":\",j)"
   ]
  },
  {
   "cell_type": "code",
   "execution_count": null,
   "id": "fb054318-cc00-476e-8fda-4aefe13cbf4b",
   "metadata": {
    "tags": []
   },
   "outputs": [],
   "source": [
    "information(name = \"Raju\",Age = 23)"
   ]
  },
  {
   "cell_type": "markdown",
   "id": "7bebfca2-fe06-4a39-b915-68fa4e87f1da",
   "metadata": {},
   "source": [
    "# Difference between Dictionary And **kwargs\n",
    "Dict==> key: values pairs  (\"key\":\"value\") \n",
    "\n",
    "**kwargs ==> varible = value (variable = \"valuse\")\n",
    "\n",
    "bothe have the quotation difference in keys or variables and also the symbols (:)<==> (=)"
   ]
  },
  {
   "cell_type": "markdown",
   "id": "13ae0b41-36e3-421e-a077-d6381fadeffa",
   "metadata": {},
   "source": [
    "# Return statement"
   ]
  },
  {
   "cell_type": "code",
   "execution_count": null,
   "id": "2c0420cc-09fd-4056-b737-a7100e2b7467",
   "metadata": {},
   "outputs": [],
   "source": [
    "def myfunc (x,y):\n",
    "    return(x+y)\n",
    "\n",
    "Sum_num= myfunc(10,20)"
   ]
  },
  {
   "cell_type": "code",
   "execution_count": null,
   "id": "c688a99e-c94d-48d5-90cc-5158886abbe9",
   "metadata": {},
   "outputs": [],
   "source": [
    "print(Sum_num)"
   ]
  },
  {
   "cell_type": "markdown",
   "id": "984b2d9e-12b0-4901-a72b-30005247eee9",
   "metadata": {},
   "source": [
    "## Scope of function"
   ]
  },
  {
   "cell_type": "code",
   "execution_count": null,
   "id": "df6205d0-b5c1-4786-84e8-1a17a3da85bc",
   "metadata": {},
   "outputs": [],
   "source": [
    "var= 10  this is the global variable \n",
    "print(var)"
   ]
  },
  {
   "cell_type": "code",
   "execution_count": null,
   "id": "a38c9b45-ad98-4216-b0c5-6ad6a4122007",
   "metadata": {},
   "outputs": [],
   "source": [
    "def myFunc(inp): # inp is also the local variable \n",
    "    Lc= 30 # this is the local variable\n",
    "    print (Lc)\n",
    "    print (\"print inp\",inp)\n",
    "    print(\"this is pass and call global inside the local \", var)"
   ]
  },
  {
   "cell_type": "code",
   "execution_count": null,
   "id": "a920f313-990b-41b3-b92e-8d4d7bffa70a",
   "metadata": {},
   "outputs": [],
   "source": [
    "myFunc(40)"
   ]
  },
  {
   "cell_type": "code",
   "execution_count": null,
   "id": "a2f30a78-d859-4a9c-b2cc-82f0a73ae525",
   "metadata": {},
   "outputs": [],
   "source": [
    "print(Lc) # Returns the error,bcz local variable  "
   ]
  },
  {
   "cell_type": "code",
   "execution_count": null,
   "id": "0e581360-70a5-4f7f-87e8-8b562d181101",
   "metadata": {},
   "outputs": [],
   "source": [
    "print (inp) ## Returns the error, bcz its a local variable "
   ]
  },
  {
   "cell_type": "markdown",
   "id": "e2083ad7-21f7-47bf-ac77-bb40fe2db50d",
   "metadata": {},
   "source": [
    "## Generator Function\n"
   ]
  },
  {
   "cell_type": "code",
   "execution_count": null,
   "id": "64449633-330d-4d53-ac67-64e9ce2e9d44",
   "metadata": {},
   "outputs": [],
   "source": [
    "def myfunc():\n",
    "    n =1\n",
    "    print(\"First iteration\")\n",
    "    yield \"number 1 : n =\" +str(n)\n",
    "    \n",
    "    n += 2\n",
    "    print(\"Secondt iteration\")\n",
    "    yield \"number 1 : n =\" +str(n)\n",
    "    \n",
    "    n += 3\n",
    "    print(\"Third iteration\")\n",
    "    yield \"number 1 : n =\" +str(n)"
   ]
  },
  {
   "cell_type": "code",
   "execution_count": null,
   "id": "bfc32109-8c7e-42c9-9be2-e82e86846ee4",
   "metadata": {},
   "outputs": [],
   "source": [
    "gen = myfunc()"
   ]
  },
  {
   "cell_type": "code",
   "execution_count": null,
   "id": "99dd3fe4-16ec-41ac-b99e-3dd25ce379d5",
   "metadata": {},
   "outputs": [],
   "source": [
    "print(next(gen))"
   ]
  },
  {
   "cell_type": "code",
   "execution_count": null,
   "id": "64ab7c58-8b68-455d-8970-c1ba0fdf0599",
   "metadata": {},
   "outputs": [],
   "source": [
    "print(next(gen))"
   ]
  },
  {
   "cell_type": "code",
   "execution_count": null,
   "id": "d262f722-7d89-4c2f-bbdd-071ba94d8f6e",
   "metadata": {},
   "outputs": [],
   "source": [
    "print(next(gen))"
   ]
  },
  {
   "cell_type": "code",
   "execution_count": null,
   "id": "2d0db230-c5f5-4c81-bc38-49f95ba769f7",
   "metadata": {},
   "outputs": [],
   "source": [
    "print(next(gen)) # returns erro it can take only 3 times "
   ]
  },
  {
   "cell_type": "markdown",
   "id": "d12b78ec-dff5-444d-9e8b-f77f1fce1258",
   "metadata": {},
   "source": [
    "## Built in functions"
   ]
  },
  {
   "cell_type": "code",
   "execution_count": null,
   "id": "fdc61d72-dd6f-481a-ba10-e75317fd1158",
   "metadata": {},
   "outputs": [],
   "source": [
    "print(dir(__builtins__))\n"
   ]
  },
  {
   "cell_type": "markdown",
   "id": "eb26c9ce-ac98-4df3-8b40-94b00196eb35",
   "metadata": {},
   "source": [
    "# Lambda function\n",
    "\n"
   ]
  },
  {
   "cell_type": "code",
   "execution_count": null,
   "id": "7ddaec97-bbfc-4f15-8906-9f9ff661d275",
   "metadata": {},
   "outputs": [],
   "source": [
    "add_10= lambda x:x+10"
   ]
  },
  {
   "cell_type": "code",
   "execution_count": null,
   "id": "b3071c55-cf9d-410a-a953-46a971e18a6c",
   "metadata": {},
   "outputs": [],
   "source": [
    "print(add_10(10))"
   ]
  },
  {
   "cell_type": "code",
   "execution_count": null,
   "id": "4a294825-785d-4120-b880-7f3251ebc2a7",
   "metadata": {},
   "outputs": [],
   "source": [
    "# x=o\n",
    "# y=0\n",
    "multiplication = lambda x,y:x * y\n",
    "print(multiplication(10,17))"
   ]
  },
  {
   "cell_type": "code",
   "execution_count": null,
   "id": "f472c6ab-fb1d-4e8e-aeb0-c0de137652bf",
   "metadata": {},
   "outputs": [],
   "source": [
    "square_value= lambda x:x**2\n",
    "print(square_value(5))"
   ]
  },
  {
   "cell_type": "code",
   "execution_count": null,
   "id": "bc18406d-dae9-4b8b-9d75-ea6fea8b5e45",
   "metadata": {},
   "outputs": [],
   "source": [
    "print(square_value(8)) # we can reuse it"
   ]
  },
  {
   "cell_type": "markdown",
   "id": "2ebd704b-aa95-4e7f-b966-54bbe4f95984",
   "metadata": {},
   "source": [
    "# >Functional programming methods\n",
    " ## MAP, FILTER, REDUCE \n",
    " THESE ALSO USE BOTH NORMAL ASWELL AS LAMBDA FUNCTIONS\n",
    " "
   ]
  },
  {
   "cell_type": "markdown",
   "id": "1acdb9f0-ddc8-4c3d-8769-8d165d3de7cb",
   "metadata": {},
   "source": [
    "### MAP \n",
    "\n"
   ]
  },
  {
   "cell_type": "code",
   "execution_count": null,
   "id": "0b95f849-8ac4-4a32-bf8f-ef455b75e3f0",
   "metadata": {},
   "outputs": [],
   "source": [
    "def temperature(T):  \n",
    "    return ((9/5)*T)+32"
   ]
  },
  {
   "cell_type": "code",
   "execution_count": null,
   "id": "d23d29c1-d236-4f8d-b922-f213312fa42b",
   "metadata": {},
   "outputs": [],
   "source": [
    "temperature(37)"
   ]
  },
  {
   "cell_type": "code",
   "execution_count": null,
   "id": "924c4ac7-ba5f-4d12-8ea2-a9daf6123c9f",
   "metadata": {},
   "outputs": [],
   "source": [
    "tempe = [22.0,54.35,41.5,32.6,40.0,60.2]\n",
    "for T in tempe:\n",
    "    f=((9/5)*T)+32\n",
    "    print('{:5.1f} in degree C is equivalent to {:6.1f} in f=degree f'.format(T,f))\n",
    "\n",
    "    "
   ]
  },
  {
   "cell_type": "code",
   "execution_count": null,
   "id": "4ef09e54-0617-4b61-8f14-2c1d0a72b594",
   "metadata": {},
   "outputs": [],
   "source": [
    "tempe = [22.0,54.35,41.5,32.6,40.0,60.2]  \n",
    "res = list(map(lambda T:((9/5)*T)+32, tempe))"
   ]
  },
  {
   "cell_type": "code",
   "execution_count": null,
   "id": "d0e1601c-4cf7-4613-a3bb-6b17de045261",
   "metadata": {},
   "outputs": [],
   "source": [
    "res"
   ]
  },
  {
   "cell_type": "markdown",
   "id": "9d56040a-5832-4067-b054-720cc0e4ff6b",
   "metadata": {},
   "source": [
    "## filter"
   ]
  },
  {
   "cell_type": "code",
   "execution_count": null,
   "id": "786b66c4-523f-4428-ba17-b6b3c92f4c30",
   "metadata": {},
   "outputs": [],
   "source": [
    "num =[12,13,14,15,16,17,18]\n",
    "odd_num=list(filter(lambda x:x%2,num))\n",
    "print(odd_num)"
   ]
  },
  {
   "cell_type": "markdown",
   "id": "d3067e76-2eb9-4262-bc60-f731aa5a2cd8",
   "metadata": {},
   "source": [
    "## Reduce \n",
    "it is module named \"_functools\""
   ]
  },
  {
   "cell_type": "code",
   "execution_count": null,
   "id": "db8aebb6-a76f-4b86-aece-b290009e557e",
   "metadata": {},
   "outputs": [],
   "source": [
    "from _functools import reduce\n"
   ]
  },
  {
   "cell_type": "code",
   "execution_count": null,
   "id": "9f34a8d6-c706-4b52-aea5-bfca86abb0f2",
   "metadata": {},
   "outputs": [],
   "source": [
    "number= [2,4,6,8,10,12]\n",
    "result= reduce(lambda x, y : x+y, number)\n",
    "result"
   ]
  },
  {
   "cell_type": "markdown",
   "id": "a4cc86f1-b474-4218-8a3c-d8dea32a8e8e",
   "metadata": {},
   "source": [
    "# Class 3\n",
    "# OOP's- [Object Oreanted Programming]"
   ]
  },
  {
   "cell_type": "code",
   "execution_count": null,
   "id": "17858d02-16e5-4249-b38f-818b76ca8e31",
   "metadata": {},
   "outputs": [],
   "source": [
    "x=1\n",
    "print(type(x))"
   ]
  },
  {
   "cell_type": "code",
   "execution_count": null,
   "id": "d7ceaf80-a115-4a56-a283-2ffb7f17f8a6",
   "metadata": {},
   "outputs": [],
   "source": [
    "x= \"hello\"\n",
    "print(type(x))"
   ]
  },
  {
   "cell_type": "code",
   "execution_count": null,
   "id": "ca0c1958-0316-4c94-a6a5-560b6f838943",
   "metadata": {},
   "outputs": [],
   "source": [
    "def x_num ():\n",
    "    print (\"Even\")\n",
    "print(type(x_num))  # these all above and this code gives the calss "
   ]
  },
  {
   "cell_type": "markdown",
   "id": "0a50e3f2-0ffc-48f3-b8ed-67d5709a4d62",
   "metadata": {},
   "source": [
    "### Class \n",
    "##### Creating a class "
   ]
  },
  {
   "cell_type": "code",
   "execution_count": null,
   "id": "6a775542-33c3-4a01-bbcc-7c1c7e99134b",
   "metadata": {},
   "outputs": [],
   "source": [
    "class Dog:\n",
    "    def Bark(self): # Minimum agrument you have to give a function inside the class is \"self\".\n",
    "        print(\"Bark!\") "
   ]
  },
  {
   "cell_type": "markdown",
   "id": "af57a12d-5c1d-4e7d-a054-7366936e5c44",
   "metadata": {},
   "source": [
    "#### Object creation\n",
    "\n"
   ]
  },
  {
   "cell_type": "code",
   "execution_count": null,
   "id": "5b5996f6-640b-415e-bbe8-154e25d536c1",
   "metadata": {},
   "outputs": [],
   "source": [
    "d= Dog() # create an instance of class Dog (Alays an Object is an instance of class )"
   ]
  },
  {
   "cell_type": "code",
   "execution_count": null,
   "id": "06fdfcd5-bdbd-47a7-925c-6b2b08324a21",
   "metadata": {},
   "outputs": [],
   "source": [
    "print(type(d))"
   ]
  },
  {
   "cell_type": "code",
   "execution_count": null,
   "id": "a37ce51d-4f4c-4087-b367-01463fa0635e",
   "metadata": {},
   "outputs": [],
   "source": [
    "d.Bark()"
   ]
  },
  {
   "cell_type": "code",
   "execution_count": null,
   "id": "6b10b8c3-7ebc-42f5-85c2-1ea84e58ee8a",
   "metadata": {},
   "outputs": [],
   "source": [
    "# tyr adding multiple  methode in d=side the class \n",
    "class Dog:\n",
    "    def bark(self):\n",
    "        print (\"Bark!\")\n",
    "    def adding (self,x):\n",
    "               return x+1\n",
    "                   \n",
    "                   "
   ]
  },
  {
   "cell_type": "code",
   "execution_count": null,
   "id": "48d6ed47-9b64-46cc-a9bb-dbc9b44e01c6",
   "metadata": {},
   "outputs": [],
   "source": [
    "d= Dog()\n",
    "d.bark()\n",
    "d.adding(5)"
   ]
  },
  {
   "cell_type": "markdown",
   "id": "e6f095fb-c209-4096-906a-ca670cf14e30",
   "metadata": {},
   "source": [
    "###### Method that gets automatically exicuted as soon as an object is created is __ init __() method [also known as constructor]"
   ]
  },
  {
   "cell_type": "code",
   "execution_count": null,
   "id": "ff43a437-7c70-46ba-8cef-35a1fea8a91c",
   "metadata": {},
   "outputs": [],
   "source": [
    "class Dog:\n",
    "    def __init__ (self,name):\n",
    "        self.name=name  # creating the attributes of the class dog\n",
    "        print(\"hello\",  name)\n",
    "    def bark(self):\n",
    "        print (\"Bark!\")\n",
    "    def adding (self,x):\n",
    "        return x+1\n",
    "                   \n",
    "    "
   ]
  },
  {
   "cell_type": "code",
   "execution_count": null,
   "id": "46b8ea00-c3f7-4d6d-adb4-d5f9739271bf",
   "metadata": {},
   "outputs": [],
   "source": [
    "d=Dog(\"tim\")"
   ]
  },
  {
   "cell_type": "code",
   "execution_count": null,
   "id": "a6276145-cf71-4c6b-8414-5ada322766a3",
   "metadata": {},
   "outputs": [],
   "source": [
    "d2= Dog(\"Bill\")"
   ]
  },
  {
   "cell_type": "markdown",
   "id": "c9642281-bd69-49df-b9a5-3b6392a9521d",
   "metadata": {},
   "source": [
    "Bothe the objects  d and d2 are different and detials stored in different places"
   ]
  },
  {
   "cell_type": "code",
   "execution_count": null,
   "id": "f8c00b55-2955-41d8-9d5a-20e7b489fea2",
   "metadata": {},
   "outputs": [],
   "source": [
    "# macking the method to call name \n",
    "class Dog:\n",
    "    def __init__ (self,name):\n",
    "        self.name=name\n",
    "    def get_name(self):\n",
    "        return self.name"
   ]
  },
  {
   "cell_type": "code",
   "execution_count": null,
   "id": "bf968a62-c5f6-4eb2-abe8-c2f56c69d641",
   "metadata": {},
   "outputs": [],
   "source": [
    "d= Dog(\"Tim\")\n",
    "print(d.get_name())\n"
   ]
  },
  {
   "cell_type": "code",
   "execution_count": null,
   "id": "aa35e4a2-e3f7-445f-b514-676212777a79",
   "metadata": {},
   "outputs": [],
   "source": [
    "# adding more attributes \n",
    "class Dog:\n",
    "    def __init__(self, name, age):\n",
    "            self.name=name\n",
    "            self.age=age \n",
    "    def get_name(self):\n",
    "            return self.name\n",
    "    def get_age (self):\n",
    "            return self.age"
   ]
  },
  {
   "cell_type": "code",
   "execution_count": null,
   "id": "a328cdf9-0822-4718-ab2d-5fb48cb3c88d",
   "metadata": {},
   "outputs": [],
   "source": [
    "d=Dog(\"Tom\",5)\n",
    "print(d.get_name())\n",
    "print(d.get_age())"
   ]
  },
  {
   "cell_type": "code",
   "execution_count": null,
   "id": "704882b3-5bc6-479f-8c66-3e244e341977",
   "metadata": {},
   "outputs": [],
   "source": [
    "# try modifying the athributes    ex: after few years the age get change\n",
    "class Dog:\n",
    "    def __init__(self, name, age):\n",
    "            self.name=name\n",
    "            self.age=age \n",
    "    def get_name(self):\n",
    "            return self.name\n",
    "    def get_age (self):\n",
    "            return self.age\n",
    "    def set_age(self,age):\n",
    "        self.age = age\n",
    "        "
   ]
  },
  {
   "cell_type": "code",
   "execution_count": null,
   "id": "e4d43d58-8061-4d75-b222-23aeeab840f1",
   "metadata": {},
   "outputs": [],
   "source": [
    "d= Dog(\"tim\",4)\n",
    "d.get_age()\n",
    "# print(d.set_age(8))"
   ]
  },
  {
   "cell_type": "code",
   "execution_count": null,
   "id": "dcd0ba67-b11c-49a3-bcfd-3883ad935cdc",
   "metadata": {},
   "outputs": [],
   "source": [
    "d.set_age(8)"
   ]
  },
  {
   "cell_type": "code",
   "execution_count": null,
   "id": "ae7e5a82-10ee-4c7b-bc3a-a326bfb65a22",
   "metadata": {},
   "outputs": [],
   "source": [
    "print(d.get_age())"
   ]
  },
  {
   "cell_type": "markdown",
   "id": "29f0c565-f102-4eda-bf3d-6dc94d962919",
   "metadata": {},
   "source": [
    "# we can also use input here to call the age \n",
    "age = int (input(\"Enter the age:\"))\n",
    "print(d.get_age())"
   ]
  },
  {
   "cell_type": "markdown",
   "id": "9555aaad-89bb-489c-88c6-f3737c551bdf",
   "metadata": {},
   "source": [
    " ### Creating multiple classes"
   ]
  },
  {
   "cell_type": "code",
   "execution_count": null,
   "id": "2a983802-85f1-48f0-9633-5ca0e87d0672",
   "metadata": {},
   "outputs": [],
   "source": [
    "class Student:\n",
    "    def __init__ (self,name, age, marks):\n",
    "        self.name=name\n",
    "        self.age=age\n",
    "        self.marks= marks \n",
    "    def get_marks(self):\n",
    "        return self.marks\n",
    "    "
   ]
  },
  {
   "cell_type": "code",
   "execution_count": null,
   "id": "ad9e0039-0165-49cd-83a7-f0d53b095404",
   "metadata": {},
   "outputs": [],
   "source": [
    "class Course:\n",
    "    def __init__(self, course_name,max_student):\n",
    "        self.course_name=course_name\n",
    "        self.max_student=max_student\n",
    "        self.student=[]\n",
    "    def add_student (self,student):\n",
    "        if len(self.student)< self.max_student:\n",
    "            self.student.append(student)\n",
    "            return True\n",
    "        return False\n",
    "    def get_avg (self):\n",
    "        value=0\n",
    "        for student in self.student:\n",
    "            value += student.get_marks()\n",
    "        return value/len(self.student)\n",
    "        \n",
    "        "
   ]
  },
  {
   "cell_type": "code",
   "execution_count": null,
   "id": "b43082df-8cde-40ae-b053-334ea72669bb",
   "metadata": {},
   "outputs": [],
   "source": [
    "S1= Student(\"Chandan\",23,95)\n",
    "S2= Student(\"Rju\",23,85)\n",
    "S3=Student(\"Manu\",23,75)\n"
   ]
  },
  {
   "cell_type": "code",
   "execution_count": null,
   "id": "9ef532f6-601c-4344-8deb-9c1d379cf88b",
   "metadata": {},
   "outputs": [],
   "source": [
    "course1 = Course(\"Python\",2)\n"
   ]
  },
  {
   "cell_type": "code",
   "execution_count": null,
   "id": "99b93dfc-705e-414c-87f5-b879baf24dee",
   "metadata": {},
   "outputs": [],
   "source": [
    "course1.add_student(S1)"
   ]
  },
  {
   "cell_type": "code",
   "execution_count": null,
   "id": "0918ba20-7e61-4a55-beaa-927df26f6a5c",
   "metadata": {},
   "outputs": [],
   "source": [
    "course1.add_student(S2)"
   ]
  },
  {
   "cell_type": "code",
   "execution_count": null,
   "id": "c7bdedc2-80e9-40c2-a25c-dee5bc9bcaa8",
   "metadata": {},
   "outputs": [],
   "source": [
    "course1.add_student(S3) # BCZ the max capacity of class is 2"
   ]
  },
  {
   "cell_type": "code",
   "execution_count": null,
   "id": "050e15d1-13da-459b-8768-c8cb9539f110",
   "metadata": {},
   "outputs": [],
   "source": [
    "course1.get_avg()"
   ]
  },
  {
   "cell_type": "code",
   "execution_count": null,
   "id": "33ce8e65-a717-4f50-8728-1dd4bdc201c5",
   "metadata": {},
   "outputs": [],
   "source": [
    "course1.student[0].name # 0 is the index"
   ]
  },
  {
   "cell_type": "markdown",
   "id": "d1854b07-372a-45a5-b1f7-923c95e20975",
   "metadata": {},
   "source": [
    "## Pillers of OOPS\n",
    "\n"
   ]
  },
  {
   "cell_type": "markdown",
   "id": "b194422a-44ca-42c8-9ce7-78ebf9bcae35",
   "metadata": {},
   "source": [
    "### 1) INHERITANCE & its  Types\n",
    "\n",
    "### single-level (1P-1C),\n",
    "### multi-level (1P->C1->C2),\n",
    "### multiple (1P-2P-C), \n",
    "### hierarchial (1P-C1-C2)"
   ]
  },
  {
   "cell_type": "code",
   "execution_count": 79,
   "id": "5be01ed7-557d-4b92-afee-b9f1c79ab0d3",
   "metadata": {},
   "outputs": [],
   "source": [
    "class Pet: # parent class \n",
    "    def __init__ (self, name, age):\n",
    "        self.name=name\n",
    "        self.age=age\n",
    "    def show(self):\n",
    "        print(\"I am \",self.name,\"and my age is\",self.age)\n",
    "    def speak(self):\n",
    "        print(\"I don't know  what to speak\")    "
   ]
  },
  {
   "cell_type": "code",
   "execution_count": 80,
   "id": "0fc7c560-b80b-4561-b63c-c6baec5f789b",
   "metadata": {},
   "outputs": [],
   "source": [
    "class Cat(Pet): # child 1 class \n",
    "    def speak(self):\n",
    "        print(\"Meow\")\n",
    "class Dog(Pet):  # child 2 class \n",
    "    def speak(self):\n",
    "        print(\"Bark\")"
   ]
  },
  {
   "cell_type": "code",
   "execution_count": 81,
   "id": "de187fbe-b450-407b-bfda-cfca83fc56f3",
   "metadata": {},
   "outputs": [
    {
     "name": "stdout",
     "output_type": "stream",
     "text": [
      "I am  jerry and my age is 5\n"
     ]
    }
   ],
   "source": [
    "p=Pet(\"jerry\",5)\n",
    "p.show()"
   ]
  },
  {
   "cell_type": "code",
   "execution_count": 83,
   "id": "76aaf692-bdab-4dce-b03c-3c009ebc60b5",
   "metadata": {},
   "outputs": [],
   "source": [
    "c=Cat(\"Jim\",3)"
   ]
  },
  {
   "cell_type": "code",
   "execution_count": 84,
   "id": "e74a3148-7aa7-4e12-a35c-1dca11fdfbfe",
   "metadata": {},
   "outputs": [
    {
     "name": "stdout",
     "output_type": "stream",
     "text": [
      "I am  Jim and my age is 3\n"
     ]
    }
   ],
   "source": [
    "c.show()"
   ]
  },
  {
   "cell_type": "code",
   "execution_count": 85,
   "id": "b41836df-d386-4bda-b20a-44641fcd4f27",
   "metadata": {},
   "outputs": [
    {
     "name": "stdout",
     "output_type": "stream",
     "text": [
      "Meow\n"
     ]
    }
   ],
   "source": [
    "c.speak()\n"
   ]
  },
  {
   "cell_type": "code",
   "execution_count": 86,
   "id": "c83ff8a8-530a-43ae-ab1a-53bb09ef19a7",
   "metadata": {},
   "outputs": [
    {
     "name": "stdout",
     "output_type": "stream",
     "text": [
      "I am  Rio and my age is 6\n"
     ]
    }
   ],
   "source": [
    "d= Dog(\"Rio\",6)\n",
    "d.show()"
   ]
  },
  {
   "cell_type": "code",
   "execution_count": 87,
   "id": "a0919184-c325-45e8-ba22-a5869cac178b",
   "metadata": {},
   "outputs": [
    {
     "name": "stdout",
     "output_type": "stream",
     "text": [
      "I don't know  what to speak\n"
     ]
    }
   ],
   "source": [
    "p.speak()"
   ]
  },
  {
   "cell_type": "code",
   "execution_count": 88,
   "id": "1671aeec-c06e-425d-807b-3111c37a0bc2",
   "metadata": {},
   "outputs": [
    {
     "name": "stdout",
     "output_type": "stream",
     "text": [
      "I am  Rio and my age is 6\n",
      "Bark\n"
     ]
    }
   ],
   "source": [
    "d.show()\n",
    "d.speak()"
   ]
  },
  {
   "cell_type": "markdown",
   "id": "b45f62ee-a917-4706-8611-bff48730ec17",
   "metadata": {},
   "source": [
    "### 2)Encapsulation\n",
    "##### It is use of access modifiers (i.e., Public, Protected and Private) in OOPS"
   ]
  },
  {
   "cell_type": "code",
   "execution_count": 101,
   "id": "31e3660e-b209-4f5d-83c3-a11083db37c5",
   "metadata": {},
   "outputs": [],
   "source": [
    "class Student:\n",
    "    counter=0\n",
    "    def __init__(self,name,fathername,age):\n",
    "        self.name=name\n",
    "        self.fathername= fathername\n",
    "        self.age=age\n",
    "        Student.counter=+ 1\n",
    "        \n",
    "        self._roll_no = \"A2011/{}/{:003d}\".format(self.name[:3].upper(),Student.counter) #protected\n",
    "        self.__file_no= \"A2011/{}/{:003d}\".format(self.name.upper(),Student.counter) #private\n",
    "    def print_info(self):\n",
    "        print(\"name :\",self.name)\n",
    "        print(\"fathername :\",self.fathername)\n",
    "        print(\"Roll no :\",self._roll_no)\n",
    "        print(\"File no :\",self.__file_no)\n",
    "        \n",
    "        "
   ]
  },
  {
   "cell_type": "code",
   "execution_count": 102,
   "id": "07ea4781-a37f-46d5-84b6-1cabeae52a73",
   "metadata": {},
   "outputs": [
    {
     "name": "stdout",
     "output_type": "stream",
     "text": [
      "name : John Davis\n",
      "fathername : Malcom davis\n",
      "Roll no : A2011/JOH/001\n",
      "File no : A2011/JOHN DAVIS/001\n"
     ]
    }
   ],
   "source": [
    "S1=Student(\"John Davis\",\"Malcom davis\", 10)\n",
    "S1.print_info()\n"
   ]
  },
  {
   "cell_type": "code",
   "execution_count": 103,
   "id": "66254554-cf4f-470f-b752-d195effe96be",
   "metadata": {},
   "outputs": [],
   "source": [
    "class Science(Student):\n",
    "    def display(self):\n",
    "        print(\"name :\",self.name)\n",
    "        print(\"fathername :\",self.fathername)\n",
    "        print(\"Roll no :\",self._roll_no)\n",
    "        print(\"File no :\",self.__file_no)\n",
    "        "
   ]
  },
  {
   "cell_type": "code",
   "execution_count": 105,
   "id": "adccec04-5e73-41bd-8b07-15704fb3f34c",
   "metadata": {},
   "outputs": [
    {
     "name": "stdout",
     "output_type": "stream",
     "text": [
      "name : John Davis\n",
      "fathername : Malcom davis\n",
      "Roll no : A2011/JOH/001\n",
      "File no : A2011/JOHN DAVIS/001\n"
     ]
    }
   ],
   "source": [
    "Sc1= Science(\"John Davis\",\"Malcom davis\", 10)\n",
    "Sc1.print_info()"
   ]
  },
  {
   "cell_type": "code",
   "execution_count": 106,
   "id": "88ca7339-1ad9-4574-9730-3e7bb72e1cc1",
   "metadata": {},
   "outputs": [
    {
     "name": "stdout",
     "output_type": "stream",
     "text": [
      "name : John Davis\n",
      "fathername : Malcom davis\n",
      "Roll no : A2011/JOH/001\n"
     ]
    },
    {
     "ename": "AttributeError",
     "evalue": "'Science' object has no attribute '_Science__file_no'",
     "output_type": "error",
     "traceback": [
      "\u001b[31m---------------------------------------------------------------------------\u001b[39m",
      "\u001b[31mAttributeError\u001b[39m                            Traceback (most recent call last)",
      "\u001b[36mCell\u001b[39m\u001b[36m \u001b[39m\u001b[32mIn[106]\u001b[39m\u001b[32m, line 1\u001b[39m\n\u001b[32m----> \u001b[39m\u001b[32m1\u001b[39m \u001b[43mSc1\u001b[49m\u001b[43m.\u001b[49m\u001b[43mdisplay\u001b[49m\u001b[43m(\u001b[49m\u001b[43m)\u001b[49m\n",
      "\u001b[36mCell\u001b[39m\u001b[36m \u001b[39m\u001b[32mIn[103]\u001b[39m\u001b[32m, line 6\u001b[39m, in \u001b[36mScience.display\u001b[39m\u001b[34m(self)\u001b[39m\n\u001b[32m      4\u001b[39m \u001b[38;5;28mprint\u001b[39m(\u001b[33m\"\u001b[39m\u001b[33mfathername :\u001b[39m\u001b[33m\"\u001b[39m,\u001b[38;5;28mself\u001b[39m.fathername)\n\u001b[32m      5\u001b[39m \u001b[38;5;28mprint\u001b[39m(\u001b[33m\"\u001b[39m\u001b[33mRoll no :\u001b[39m\u001b[33m\"\u001b[39m,\u001b[38;5;28mself\u001b[39m._roll_no)\n\u001b[32m----> \u001b[39m\u001b[32m6\u001b[39m \u001b[38;5;28mprint\u001b[39m(\u001b[33m\"\u001b[39m\u001b[33mFile no :\u001b[39m\u001b[33m\"\u001b[39m,\u001b[38;5;28;43mself\u001b[39;49m\u001b[43m.\u001b[49m\u001b[43m__file_no\u001b[49m)\n",
      "\u001b[31mAttributeError\u001b[39m: 'Science' object has no attribute '_Science__file_no'"
     ]
    }
   ],
   "source": [
    "Sc1.display()"
   ]
  },
  {
   "cell_type": "markdown",
   "id": "65813fd4-e399-4b51-8876-cbfc7c6bf838",
   "metadata": {},
   "source": [
    "## 3)Polymorphism\n",
    "### types of Polymorphism  \n",
    "\n",
    "### 1) Compile time ===>  (1) Method overloading (2) Operator overloading\n",
    "### 2) Run time ===> Method overriding"
   ]
  },
  {
   "cell_type": "markdown",
   "id": "301fcf94-9927-43f8-acc8-931eb9a88abf",
   "metadata": {},
   "source": [
    "### Operator overloading\n",
    "below example + acts multiple types \n"
   ]
  },
  {
   "cell_type": "code",
   "execution_count": 107,
   "id": "19bcecf5-f73c-4e4f-bde1-bdd5468b82db",
   "metadata": {},
   "outputs": [
    {
     "name": "stdout",
     "output_type": "stream",
     "text": [
      "3\n"
     ]
    }
   ],
   "source": [
    "x=1\n",
    "y=2\n",
    "print(x+y)"
   ]
  },
  {
   "cell_type": "code",
   "execution_count": 114,
   "id": "c570b771-bf1c-4c28-a612-bfe728cc4c77",
   "metadata": {},
   "outputs": [],
   "source": [
    "x= \"Hello \"\n",
    "y= \"world\""
   ]
  },
  {
   "cell_type": "code",
   "execution_count": 115,
   "id": "2f112856-abe7-4d5a-807a-f7510d35fecd",
   "metadata": {},
   "outputs": [
    {
     "name": "stdout",
     "output_type": "stream",
     "text": [
      "Hello world\n"
     ]
    }
   ],
   "source": [
    "print(x+y)"
   ]
  },
  {
   "cell_type": "markdown",
   "id": "e06989c0-b8e5-4501-bb77-f6c0b844dca0",
   "metadata": {},
   "source": [
    "### Method overloading \n",
    "\n",
    "In below example, inside, method b acts as multiple types\n"
   ]
  },
  {
   "cell_type": "code",
   "execution_count": 116,
   "id": "bde6bcaa-fc54-44fb-995c-17934cb297dc",
   "metadata": {},
   "outputs": [],
   "source": [
    "class Shape:\n",
    "    def area(self,a,b=0):\n",
    "        if b == 0:\n",
    "            return 3.14*a*a\n",
    "        else:\n",
    "            return a*b\n",
    "            "
   ]
  },
  {
   "cell_type": "code",
   "execution_count": 117,
   "id": "28690071-65c6-4a93-a84a-28ad80e2ffb5",
   "metadata": {},
   "outputs": [],
   "source": [
    "shape= Shape()"
   ]
  },
  {
   "cell_type": "code",
   "execution_count": 118,
   "id": "b13262bb-63bf-463c-a77b-6700cc28e843",
   "metadata": {},
   "outputs": [
    {
     "data": {
      "text/plain": [
       "254.34"
      ]
     },
     "execution_count": 118,
     "metadata": {},
     "output_type": "execute_result"
    }
   ],
   "source": [
    "shape.area(9)"
   ]
  },
  {
   "cell_type": "code",
   "execution_count": 119,
   "id": "1b0052c2-eb2e-4a44-9c10-800bf883ad23",
   "metadata": {},
   "outputs": [
    {
     "data": {
      "text/plain": [
       "36"
      ]
     },
     "execution_count": 119,
     "metadata": {},
     "output_type": "execute_result"
    }
   ],
   "source": [
    "shape.area(9,4)"
   ]
  },
  {
   "cell_type": "markdown",
   "id": "72ffc892-ffd9-48db-aef5-13be417174c3",
   "metadata": {},
   "source": [
    " ### Method overriding"
   ]
  },
  {
   "cell_type": "code",
   "execution_count": 121,
   "id": "728c1ee1-e546-4221-aa3e-038e6a1a3b7d",
   "metadata": {},
   "outputs": [],
   "source": [
    "class information:\n",
    "    def __init__(self, name, age, gender):\n",
    "        self.name = name\n",
    "        self.age = age\n",
    "        self.gender = gender\n",
    "    def print_info(self):\n",
    "        print('Name   : ', self.name)\n",
    "        print('Age    : ', self.age)\n",
    "        print('Gender : ', self.gender)"
   ]
  },
  {
   "cell_type": "code",
   "execution_count": 122,
   "id": "8cef0498-8217-4a7a-a0a4-1a97b1d4c366",
   "metadata": {},
   "outputs": [],
   "source": [
    "class learners(information):\n",
    "    def __init__(self, name, age, gender, exp, qual):\n",
    "        information.__init__(self, name, age, gender)\n",
    "        self.qual = qual\n",
    "        self.exp = exp\n",
    "    def print_info(self):\n",
    "        '''print_info function of derived class overrides the print_info function of parent class'''\n",
    "        print('Qual   : ', self.qual)\n",
    "        print('Exp    : ', self.exp)"
   ]
  },
  {
   "cell_type": "code",
   "execution_count": 124,
   "id": "cb664686-dbec-4c0d-9340-51148e7c9b6d",
   "metadata": {},
   "outputs": [],
   "source": [
    "obj= learners(\"Jhon Davis\",28,\"M\",3,\"Graduate\") "
   ]
  },
  {
   "cell_type": "code",
   "execution_count": 125,
   "id": "874d388d-15e4-429b-ab50-af49369cd741",
   "metadata": {},
   "outputs": [
    {
     "name": "stdout",
     "output_type": "stream",
     "text": [
      "Qual   :  Graduate\n",
      "Exp    :  3\n"
     ]
    }
   ],
   "source": [
    "obj.print_info()"
   ]
  },
  {
   "cell_type": "code",
   "execution_count": 127,
   "id": "857babd6-17a4-4d74-8cd8-c711eacf7a91",
   "metadata": {},
   "outputs": [],
   "source": [
    "obj2= information(\"Jhon Davis\",28,\"M\") "
   ]
  },
  {
   "cell_type": "code",
   "execution_count": 128,
   "id": "4cf555d5-f17c-4b7d-82c3-047f11b3bfbd",
   "metadata": {},
   "outputs": [
    {
     "name": "stdout",
     "output_type": "stream",
     "text": [
      "Name   :  Jhon Davis\n",
      "Age    :  28\n",
      "Gender :  M\n"
     ]
    }
   ],
   "source": [
    "obj2.print_info()"
   ]
  },
  {
   "cell_type": "code",
   "execution_count": 129,
   "id": "65232387-3dc6-40ef-8480-e0833507c157",
   "metadata": {},
   "outputs": [],
   "source": [
    "class information:\n",
    "    def __init__(self, name, age, gender):\n",
    "        self.name = name\n",
    "        self.age = age\n",
    "        self.gender = gender\n",
    "    def print_info(self):\n",
    "        print('Name   : ', self.name)\n",
    "        print('Age    : ', self.age)\n",
    "        print('Gender : ', self.gender)"
   ]
  },
  {
   "cell_type": "code",
   "execution_count": 130,
   "id": "b5f96b4f-c3e7-49f0-8334-e98b1810db2a",
   "metadata": {},
   "outputs": [],
   "source": [
    "class learners(information):\n",
    "    def __init__(self, name, age, gender, exp, qual):\n",
    "        information.__init__(self, name, age, gender)\n",
    "        self.qual = qual\n",
    "        self.exp = exp\n",
    "    def print_info(self):\n",
    "        '''print_info function of derived class overrides the print_info function of parent class'''\n",
    "        information.print_info(self)\n",
    "        print('Qual   : ', self.qual)\n",
    "        print('Exp    : ', self.exp)"
   ]
  },
  {
   "cell_type": "code",
   "execution_count": 131,
   "id": "83d0d632-6b04-4ece-bcf4-c5bfc0e3306e",
   "metadata": {},
   "outputs": [],
   "source": [
    "obj= learners(\"Jhon Davis\",28,\"M\",3,\"Graduate\") "
   ]
  },
  {
   "cell_type": "code",
   "execution_count": 132,
   "id": "fdbbc2e5-70c5-4657-94a7-e60a96f9dd58",
   "metadata": {},
   "outputs": [
    {
     "name": "stdout",
     "output_type": "stream",
     "text": [
      "Name   :  Jhon Davis\n",
      "Age    :  28\n",
      "Gender :  M\n",
      "Qual   :  Graduate\n",
      "Exp    :  3\n"
     ]
    }
   ],
   "source": [
    "obj.print_info()"
   ]
  },
  {
   "cell_type": "markdown",
   "id": "0a389bf2-9701-4cfb-8525-57f9aa1de51d",
   "metadata": {},
   "source": [
    "## 4) Abstraction"
   ]
  },
  {
   "cell_type": "code",
   "execution_count": 133,
   "id": "cd8ac51c-2a2a-47d5-99b9-addc3016b5b4",
   "metadata": {},
   "outputs": [],
   "source": [
    "from abc import abstractmethod, ABC\n"
   ]
  },
  {
   "cell_type": "code",
   "execution_count": 135,
   "id": "9e036cfe-6d63-46e8-93f7-c6528d839fc3",
   "metadata": {},
   "outputs": [],
   "source": [
    "class Bankapp(ABC):\n",
    "    def database(self):\n",
    "        print(\"Connected to the database\")\n",
    "\n",
    "    @abstractmethod   # it means in every class this function need to be there or else it throghs an error\n",
    "    def security(self):\n",
    "        pass\n",
    "        \n"
   ]
  },
  {
   "cell_type": "code",
   "execution_count": 137,
   "id": "a6a96cec-4022-46de-8844-440acfde9c3b",
   "metadata": {},
   "outputs": [],
   "source": [
    "class Webapp(Bankapp):\n",
    "    def web_login(self):\n",
    "        print(\"logged in the web app\")"
   ]
  },
  {
   "cell_type": "code",
   "execution_count": 138,
   "id": "73de3ecf-5d96-4cd6-9cc5-6410e3677154",
   "metadata": {},
   "outputs": [
    {
     "ename": "TypeError",
     "evalue": "Can't instantiate abstract class Webapp without an implementation for abstract method 'security'",
     "output_type": "error",
     "traceback": [
      "\u001b[31m---------------------------------------------------------------------------\u001b[39m",
      "\u001b[31mTypeError\u001b[39m                                 Traceback (most recent call last)",
      "\u001b[36mCell\u001b[39m\u001b[36m \u001b[39m\u001b[32mIn[138]\u001b[39m\u001b[32m, line 1\u001b[39m\n\u001b[32m----> \u001b[39m\u001b[32m1\u001b[39m obj1= \u001b[43mWebapp\u001b[49m\u001b[43m(\u001b[49m\u001b[43m)\u001b[49m\n",
      "\u001b[31mTypeError\u001b[39m: Can't instantiate abstract class Webapp without an implementation for abstract method 'security'"
     ]
    }
   ],
   "source": [
    "obj1= Webapp() # returns error bcz. in class Webapp static operator is not used \n"
   ]
  },
  {
   "cell_type": "code",
   "execution_count": 145,
   "id": "b422bac0-8594-4ebf-a2ba-439af121a769",
   "metadata": {},
   "outputs": [],
   "source": [
    "class Webapp(Bankapp):\n",
    "    def web_login(self):\n",
    "        print(\"logged in the web app\")\n",
    "    def security(self):   # since this method specifed from class or by @staticmethod self is optional to use \n",
    "        pass       "
   ]
  },
  {
   "cell_type": "code",
   "execution_count": 143,
   "id": "f5705bcb-cc3f-4151-8468-04bd37de808c",
   "metadata": {},
   "outputs": [],
   "source": [
    "obj1= Webapp()"
   ]
  },
  {
   "cell_type": "code",
   "execution_count": 144,
   "id": "0572f544-dc8c-49a1-94a0-969911c81ffc",
   "metadata": {},
   "outputs": [
    {
     "name": "stdout",
     "output_type": "stream",
     "text": [
      "Connected to the database\n",
      "logged in the web app\n"
     ]
    }
   ],
   "source": [
    "obj1.database()\n",
    "obj1.web_login()"
   ]
  },
  {
   "cell_type": "code",
   "execution_count": null,
   "id": "d2dc651b-a4a8-4da4-893d-e8b4aecb422c",
   "metadata": {},
   "outputs": [],
   "source": []
  }
 ],
 "metadata": {
  "kernelspec": {
   "display_name": "Python 3 (ipykernel)",
   "language": "python",
   "name": "python3"
  },
  "language_info": {
   "codemirror_mode": {
    "name": "ipython",
    "version": 3
   },
   "file_extension": ".py",
   "mimetype": "text/x-python",
   "name": "python",
   "nbconvert_exporter": "python",
   "pygments_lexer": "ipython3",
   "version": "3.13.5"
  },
  "toc-autonumbering": false,
  "toc-showcode": false,
  "toc-showmarkdowntxt": false
 },
 "nbformat": 4,
 "nbformat_minor": 5
}
